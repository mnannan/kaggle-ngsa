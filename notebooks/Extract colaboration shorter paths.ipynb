{
 "cells": [
  {
   "cell_type": "code",
   "execution_count": 1,
   "metadata": {},
   "outputs": [],
   "source": [
    "import sys\n",
    "sys.path.append('/Users/mnannan/dev/supelec/ngsa/assignments/Assignement 2 ')"
   ]
  },
  {
   "cell_type": "code",
   "execution_count": 7,
   "metadata": {},
   "outputs": [],
   "source": [
    "from features.colaboration import extract_source_target_authors_list, build_collaboration_df, merge_authors,CollaborationShortestPaths\n",
    "from features.authors import ExtractAuthorsList"
   ]
  },
  {
   "cell_type": "code",
   "execution_count": 8,
   "metadata": {},
   "outputs": [],
   "source": [
    "from core.io.loader import *"
   ]
  },
  {
   "cell_type": "code",
   "execution_count": 9,
   "metadata": {},
   "outputs": [],
   "source": [
    "import igraph"
   ]
  },
  {
   "cell_type": "code",
   "execution_count": 10,
   "metadata": {},
   "outputs": [],
   "source": [
    "import numpy as np"
   ]
  },
  {
   "cell_type": "code",
   "execution_count": 11,
   "metadata": {},
   "outputs": [],
   "source": [
    "from sklearn.utils.extmath import cartesian\n"
   ]
  },
  {
   "cell_type": "code",
   "execution_count": 12,
   "metadata": {},
   "outputs": [],
   "source": [
    "import pandas as pd"
   ]
  },
  {
   "cell_type": "code",
   "execution_count": 13,
   "metadata": {},
   "outputs": [],
   "source": [
    "train = get_data_with_node_information('train', data_dir='../data')"
   ]
  },
  {
   "cell_type": "code",
   "execution_count": 14,
   "metadata": {},
   "outputs": [],
   "source": [
    "train = ExtractAuthorsList().transform(train)"
   ]
  },
  {
   "cell_type": "code",
   "execution_count": 15,
   "metadata": {},
   "outputs": [],
   "source": [
    "train = CollaborationShortestPaths().transform(train)"
   ]
  },
  {
   "cell_type": "code",
   "execution_count": 20,
   "metadata": {},
   "outputs": [
    {
     "data": {
      "text/plain": [
       "array(['Sung-Won Kim, Won T. Kim, Young-Jai Park, , Hyeonjoon Shin',\n",
       "       'Won T. Kim, Julian Lee, , Young Jai Park',\n",
       "       list([1.0, 2.0, 1.0, 0.0, 1.0, 1.0, 1.0, 1.0, 0.0, 1.0, 2.0, 1.0])],\n",
       "      dtype=object)"
      ]
     },
     "execution_count": 20,
     "metadata": {},
     "output_type": "execute_result"
    }
   ],
   "source": [
    "train.loc[411789][['source_authors', 'target_authors', 'collaboration_paths']].values"
   ]
  },
  {
   "cell_type": "code",
   "execution_count": 17,
   "metadata": {},
   "outputs": [
    {
     "data": {
      "text/plain": [
       "0                                                      None\n",
       "510736    [5.0, 6.0, 5.0, 4.0, 5.0, 4.0, 4.0, 5.0, 4.0, ...\n",
       "451434    [5.0, 4.0, 5.0, 6.0, 5.0, 5.0, 5.0, 4.0, 5.0, ...\n",
       "168455                       [7.0, 7.0, 6.0, 6.0, 6.0, 5.0]\n",
       "170930    [4.0, 4.0, 3.0, 5.0, 5.0, 4.0, 4.0, 5.0, 4.0, ...\n",
       "21430     [4.0, 4.0, 3.0, 4.0, 4.0, 3.0, 4.0, 4.0, 3.0, ...\n",
       "426916                                      [5.0, 4.0, 5.0]\n",
       "201084                       [6.0, 5.0, 6.0, 5.0, 4.0, 5.0]\n",
       "167792                                                 None\n",
       "192101        [5.0, 4.0, 4.0, 6.0, 5.0, 5.0, 6.0, 5.0, 5.0]\n",
       "126225                       [5.0, 4.0, 5.0, 5.0, 4.0, 4.0]\n",
       "514327                                      [8.0, 7.0, 7.0]\n",
       "222625        [6.0, 6.0, 5.0, 7.0, 7.0, 6.0, 7.0, 7.0, 6.0]\n",
       "486060                                                 None\n",
       "484078                                                 None\n",
       "411789    [1.0, 2.0, 1.0, 0.0, 1.0, 1.0, 1.0, 1.0, 0.0, ...\n",
       "28303                                                  None\n",
       "513109        [5.0, 4.0, 5.0, 5.0, 4.0, 5.0, 5.0, 4.0, 5.0]\n",
       "448365                                      [2.0, 1.0, 1.0]\n",
       "561330                                                 None\n",
       "19890                                                  None\n",
       "97855                                  [8.0, 8.0, 7.0, 8.0]\n",
       "211853                                           [6.0, 7.0]\n",
       "474747                                                [5.0]\n",
       "460802                                           [6.0, 5.0]\n",
       "431055                                                 None\n",
       "336699                                                [5.0]\n",
       "481502                                           [5.0, 6.0]\n",
       "591074                                      [5.0, 6.0, 6.0]\n",
       "133281                                           [5.0, 6.0]\n",
       "                                ...                        \n",
       "318843                                 [6.0, 7.0, 7.0, 8.0]\n",
       "188012                                 [inf, inf, inf, inf]\n",
       "236757                                           [inf, inf]\n",
       "192667                       [4.0, 5.0, 4.0, 5.0, 3.0, 4.0]\n",
       "122965                                 [6.0, 7.0, 7.0, 8.0]\n",
       "569380                                           [6.0, 7.0]\n",
       "587943                                                 None\n",
       "165076                                                 None\n",
       "10823                                            [0.0, 1.0]\n",
       "584917                                           [7.0, 8.0]\n",
       "261633                                                 None\n",
       "226489                                                 None\n",
       "84825                                                  None\n",
       "182507                                                 None\n",
       "555714                                                 None\n",
       "337145                                                 None\n",
       "410832                                                 None\n",
       "368321                                                 None\n",
       "104952                                                 None\n",
       "318271                                                 None\n",
       "598269                                                 None\n",
       "22498                                  [6.0, 7.0, 5.0, 6.0]\n",
       "506818                                           [inf, inf]\n",
       "297041                                 [5.0, 6.0, 5.0, 6.0]\n",
       "6710                                   [7.0, 8.0, 6.0, 7.0]\n",
       "125622                                                 None\n",
       "272080                                           [inf, inf]\n",
       "141608                                           [6.0, 7.0]\n",
       "354181                                                 None\n",
       "257443                                                 None\n",
       "Name: collaboration_paths, Length: 615512, dtype: object"
      ]
     },
     "execution_count": 17,
     "metadata": {},
     "output_type": "execute_result"
    }
   ],
   "source": [
    "train.collaboration_paths"
   ]
  },
  {
   "cell_type": "code",
   "execution_count": 314,
   "metadata": {},
   "outputs": [],
   "source": [
    "def create_colaboration_graph(df):\n",
    "    \"\"\"6s\"\"\"\n",
    "    source_authors_list , _ =  extract_source_target_authors_list(train)\n",
    "    source_authors = pd.DataFrame(source_authors_list)\n",
    "    source_authors = source_authors.rename({0:'paper_id', 1:'author'}, axis='columns')\n",
    "\n",
    "    authors_mapping = {value:key for key, value in source_authors.author.drop_duplicates().reset_index(drop=True).items()}\n",
    "    \n",
    "    colaboration = build_colaboration_df(source_authors)\n",
    "    colaboration['merge_authors'] = merge_authors(colaboration.author_1, colaboration.author_2)\n",
    "    colaboration = colaboration.sort_values(['paper_id', 'author_1', 'author_2']).drop_duplicates(['paper_id', 'merge_authors'])\n",
    "    colaboration_edges = []\n",
    "    for author_1, author_2 in zip(colaboration.author_1, colaboration.author_2):\n",
    "        colaboration_edges.append((authors_mapping[author_1], authors_mapping[author_2]))\n",
    "    return igraph.Graph(colaboration_edges)"
   ]
  },
  {
   "cell_type": "code",
   "execution_count": 315,
   "metadata": {},
   "outputs": [
    {
     "name": "stdout",
     "output_type": "stream",
     "text": [
      "1.8907582759857178\n"
     ]
    }
   ],
   "source": [
    "st = time.time()\n",
    "graph_colaboration = create_colaboration_graph(train)\n",
    "print(time.time() - st)"
   ]
  },
  {
   "cell_type": "code",
   "execution_count": 316,
   "metadata": {},
   "outputs": [
    {
     "data": {
      "text/plain": [
       "11456"
      ]
     },
     "execution_count": 316,
     "metadata": {},
     "output_type": "execute_result"
    }
   ],
   "source": [
    "graph_colaboration.vcount()"
   ]
  },
  {
   "cell_type": "code",
   "execution_count": 317,
   "metadata": {},
   "outputs": [
    {
     "data": {
      "text/plain": [
       "40353"
      ]
     },
     "execution_count": 317,
     "metadata": {},
     "output_type": "execute_result"
    }
   ],
   "source": [
    "graph_colaboration.ecount()"
   ]
  },
  {
   "cell_type": "code",
   "execution_count": 318,
   "metadata": {},
   "outputs": [],
   "source": [
    "def extract_colaboration_shortest_paths_matrix(graph):\n",
    "    \"\"\"33 s\"\"\"\n",
    "    return np.matrix(graph_colaboration.shortest_paths())"
   ]
  },
  {
   "cell_type": "code",
   "execution_count": 319,
   "metadata": {},
   "outputs": [
    {
     "name": "stdout",
     "output_type": "stream",
     "text": [
      "33.276445388793945\n"
     ]
    }
   ],
   "source": [
    "st = time.time()\n",
    "shortest_path = extract_colaboration_shortest_paths_matrix(graph_colaboration)\n",
    "print(time.time() - st)"
   ]
  },
  {
   "cell_type": "code",
   "execution_count": 323,
   "metadata": {},
   "outputs": [],
   "source": [
    "def extract_shortest_paths(authors_list: pd.Series, shortest_path=shortest_path, authors_mapping=authors_mapping):\n",
    "    \"\"\"17 s\"\"\"\n",
    "    if isinstance(authors_list, list) and len(authors_list) == 2 and authors_list[0] and authors_list[1]:\n",
    "        mapped_authors_1 = np.array([authors_mapping[author] for author in authors_list[0]])\n",
    "        mapped_authors_2 = np.array([authors_mapping[author] for author in authors_list[1]])\n",
    "        c = cartesian((mapped_authors_1,mapped_authors_2))\n",
    "        return shortest_path[c[:,0],c[:,1]].tolist()[0]"
   ]
  },
  {
   "cell_type": "code",
   "execution_count": 324,
   "metadata": {},
   "outputs": [
    {
     "name": "stdout",
     "output_type": "stream",
     "text": [
      "17.16381573677063\n"
     ]
    }
   ],
   "source": [
    "st = time.time()\n",
    "authors_list = train.source_authors_list.apply(lambda x: [x] if x is not None else None) + train.target_authors_list.apply(lambda x: [x] if x is not None else None)\n",
    "train['colaboration_paths'] = authors_list.apply(extract_shortest_paths)\n",
    "print(time.time() - st)"
   ]
  },
  {
   "cell_type": "code",
   "execution_count": null,
   "metadata": {},
   "outputs": [],
   "source": []
  }
 ],
 "metadata": {
  "kernelspec": {
   "display_name": "supelec",
   "language": "python",
   "name": "supelec"
  },
  "language_info": {
   "codemirror_mode": {
    "name": "ipython",
    "version": 3
   },
   "file_extension": ".py",
   "mimetype": "text/x-python",
   "name": "python",
   "nbconvert_exporter": "python",
   "pygments_lexer": "ipython3",
   "version": "3.6.5"
  }
 },
 "nbformat": 4,
 "nbformat_minor": 2
}
