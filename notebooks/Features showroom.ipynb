{
 "cells": [
  {
   "cell_type": "code",
   "execution_count": 1,
   "metadata": {},
   "outputs": [],
   "source": [
    "import sys\n",
    "sys.path.append('/Users/mnannan/dev/supelec/ngsa/assignments/Assignement 2 ')"
   ]
  },
  {
   "cell_type": "code",
   "execution_count": 2,
   "metadata": {},
   "outputs": [],
   "source": [
    "from core.io.loader import *"
   ]
  },
  {
   "cell_type": "code",
   "execution_count": 48,
   "metadata": {},
   "outputs": [],
   "source": [
    "from features.authors import ExtractAuthorsList\n",
    "from features.title import CleanTitle, TitleOverlapping\n",
    "from features.date import PublicationDateDiff\n",
    "from features.collaboration import CollaborationDistance, CollaborationFeatures\n",
    "from features.papers_graph import ExtractGraphPapersFeatures\n",
    "from features.journal import ExtractJournalFeatures"
   ]
  },
  {
   "cell_type": "code",
   "execution_count": 6,
   "metadata": {},
   "outputs": [],
   "source": [
    "import time"
   ]
  },
  {
   "cell_type": "code",
   "execution_count": 5,
   "metadata": {},
   "outputs": [],
   "source": [
    "train = get_data_with_node_information('train', data_dir='../data')"
   ]
  },
  {
   "cell_type": "code",
   "execution_count": 4,
   "metadata": {},
   "outputs": [],
   "source": [
    "pipeline = [\n",
    "    CleanTitle(),\n",
    "    TitleOverlapping(),\n",
    "    PublicationDateDiff(),\n",
    "    ExtractAuthorsList(),\n",
    "    CollaborationDistance(),\n",
    "    CollaborationFeatures(),\n",
    "    ExtractGraphPapersFeatures(),\n",
    "    ExtractJournalFeatures()\n",
    "]"
   ]
  },
  {
   "cell_type": "code",
   "execution_count": 7,
   "metadata": {},
   "outputs": [
    {
     "name": "stdout",
     "output_type": "stream",
     "text": [
      "178.33857607841492\n"
     ]
    }
   ],
   "source": [
    "st = time.time()\n",
    "for task in pipeline:\n",
    "    task.fit(train)\n",
    "    train = task.transform(train)\n",
    "print(time.time() - st)"
   ]
  }
 ],
 "metadata": {
  "kernelspec": {
   "display_name": "supelec",
   "language": "python",
   "name": "supelec"
  },
  "language_info": {
   "codemirror_mode": {
    "name": "ipython",
    "version": 3
   },
   "file_extension": ".py",
   "mimetype": "text/x-python",
   "name": "python",
   "nbconvert_exporter": "python",
   "pygments_lexer": "ipython3",
   "version": "3.6.5"
  }
 },
 "nbformat": 4,
 "nbformat_minor": 2
}
