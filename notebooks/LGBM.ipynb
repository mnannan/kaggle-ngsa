{
 "cells": [
  {
   "cell_type": "code",
   "execution_count": 1,
   "metadata": {},
   "outputs": [],
   "source": [
    "import os\n",
    "import sys\n",
    "sys.path.append('/Users/mnannan/dev/supelec/ngsa/assignments/Assignement 2 ')\n",
    "\n",
    "from main import pipeline\n",
    "from core.io.loader import *\n",
    "from features.features_extractor import FeaturesExtractor\n",
    "from features.processing import features_processing\n",
    "from models.cross_validation import *\n",
    "from plot.features_importances import plot_features_importance\n",
    "\n",
    "from datetime import datetime\n",
    "\n",
    "%matplotlib inline\n",
    "\n"
   ]
  },
  {
   "cell_type": "code",
   "execution_count": 119,
   "metadata": {},
   "outputs": [],
   "source": [
    "import matplotlib.pyplot as plt"
   ]
  },
  {
   "cell_type": "code",
   "execution_count": 6,
   "metadata": {},
   "outputs": [
    {
     "name": "stderr",
     "output_type": "stream",
     "text": [
      "/Users/mnannan/.virtualenvs/supelec/lib/python3.6/site-packages/lightgbm/__init__.py:46: UserWarning: Starting from version 2.2.1, the library file in distribution wheels for macOS is built by the Apple Clang (Xcode_8.3.1) compiler.\n",
      "This means that in case of installing LightGBM from PyPI via the ``pip install lightgbm`` command, you don't need to install the gcc compiler anymore.\n",
      "Instead of that, you need to install the OpenMP library, which is required for running LightGBM on the system with the Apple Clang compiler.\n",
      "You can install the OpenMP library by the following command: ``brew install libomp``.\n",
      "  \"You can install the OpenMP library by the following command: ``brew install libomp``.\", UserWarning)\n"
     ]
    }
   ],
   "source": [
    "import lightgbm as lgb"
   ]
  },
  {
   "cell_type": "code",
   "execution_count": 2,
   "metadata": {},
   "outputs": [],
   "source": [
    "train = pd.read_csv('../data/train_2019-01-12.csv')"
   ]
  },
  {
   "cell_type": "code",
   "execution_count": 3,
   "metadata": {},
   "outputs": [],
   "source": [
    "test = pd.read_csv('../data/test_2019-01-12.csv')"
   ]
  },
  {
   "cell_type": "code",
   "execution_count": 126,
   "metadata": {},
   "outputs": [],
   "source": [
    "selected_columns = [\n",
    "    'title_overlap',\n",
    "    'publication_date_diff',\n",
    "    'common_authors',\n",
    "    'same_journal',\n",
    "    'authors_collaboration',\n",
    "    'collaboration_min_distance',\n",
    "    'collaboration_mean_distance',\n",
    "    'writer_in_target_paper',\n",
    "    'writer_collaborators',\n",
    "    'writer_collaboration_min_distance',\n",
    "    'writer_collaboration_mean_distance',\n",
    "    'source_paper_citations',\n",
    "    'target_paper_citations',\n",
    "    'source_number_of_papers_cited',\n",
    "    'target_number_of_papers_cited',\n",
    "    'adamic_adar',\n",
    "    'common_neighbors',\n",
    "    'jaccard_coefficient',\n",
    "    'preferential_attachment',\n",
    "    'max_authors_adamic_adar',\n",
    "    'max_authors_common_neighbors',\n",
    "    'max_authors_jaccard_coefficient',\n",
    "    'max_authors_preferential_attachment',\n",
    "    'title_cosine_similarity',\n",
    "    'abstract_cosine_similarity',\n",
    "    'journal_cosine_similarity', \n",
    "    'source_title_target_abstract_cosimilarity',\n",
    "    'source_abstract_target_title_cosimilarity',\n",
    "    'pagerank_source',\n",
    "    'pagerank_target'\n",
    "]\n",
    "\n",
    "x_train = features_processing(train[selected_columns]).values\n",
    "x_test = features_processing(test[selected_columns]).values\n",
    "y = train.category.values"
   ]
  },
  {
   "cell_type": "code",
   "execution_count": 123,
   "metadata": {},
   "outputs": [],
   "source": [
    "from sklearn.model_selection import train_test_split"
   ]
  },
  {
   "cell_type": "code",
   "execution_count": 124,
   "metadata": {},
   "outputs": [],
   "source": [
    "from sklearn.model_selection import KFold"
   ]
  },
  {
   "cell_type": "code",
   "execution_count": 165,
   "metadata": {},
   "outputs": [],
   "source": [
    "from sklearn.metrics import f1_score\n",
    "\n",
    "def lgb_f1_score(y_hat, data):\n",
    "    y_true = data.get_label()\n",
    "    y_hat = np.round(y_hat) # scikits f1 doesn't like probabilities\n",
    "    return 'f1', f1_score(y_true, y_hat), True"
   ]
  },
  {
   "cell_type": "code",
   "execution_count": 125,
   "metadata": {},
   "outputs": [],
   "source": [
    "kf = KFold(n_splits=5, random_state=123, shuffle=True)"
   ]
  },
  {
   "cell_type": "code",
   "execution_count": 131,
   "metadata": {},
   "outputs": [],
   "source": [
    "params = {\n",
    "    'objective': 'binary',\n",
    "    'metric': 'binary_logloss',\n",
    "    'verbose': \n",
    "}"
   ]
  },
  {
   "cell_type": "markdown",
   "metadata": {},
   "source": [
    "### Cross validation"
   ]
  },
  {
   "cell_type": "code",
   "execution_count": 166,
   "metadata": {},
   "outputs": [
    {
     "name": "stdout",
     "output_type": "stream",
     "text": [
      "Training until validation scores don't improve for 10 rounds.\n",
      "[25]\tvalid_0's binary_logloss: 0.102701\tvalid_0's f1: 0.977631\n",
      "[50]\tvalid_0's binary_logloss: 0.0712335\tvalid_0's f1: 0.978392\n",
      "[75]\tvalid_0's binary_logloss: 0.0682356\tvalid_0's f1: 0.9788\n",
      "Early stopping, best iteration is:\n",
      "[75]\tvalid_0's binary_logloss: 0.0682356\tvalid_0's f1: 0.9788\n",
      "Epoch 1: 0.9783658170914543\n",
      "Training until validation scores don't improve for 10 rounds.\n",
      "[25]\tvalid_0's binary_logloss: 0.103634\tvalid_0's f1: 0.977502\n",
      "[50]\tvalid_0's binary_logloss: 0.0722506\tvalid_0's f1: 0.978138\n",
      "[75]\tvalid_0's binary_logloss: 0.069325\tvalid_0's f1: 0.978415\n",
      "Early stopping, best iteration is:\n",
      "[70]\tvalid_0's binary_logloss: 0.0693099\tvalid_0's f1: 0.978567\n",
      "Epoch 1: 0.9787905899689491\n",
      "Training until validation scores don't improve for 10 rounds.\n",
      "[25]\tvalid_0's binary_logloss: 0.102371\tvalid_0's f1: 0.978002\n",
      "[50]\tvalid_0's binary_logloss: 0.0710283\tvalid_0's f1: 0.978649\n",
      "Early stopping, best iteration is:\n",
      "[53]\tvalid_0's binary_logloss: 0.0701969\tvalid_0's f1: 0.978688\n",
      "Epoch 1: 0.9786263423973196\n",
      "Training until validation scores don't improve for 10 rounds.\n",
      "[25]\tvalid_0's binary_logloss: 0.103534\tvalid_0's f1: 0.977114\n",
      "[50]\tvalid_0's binary_logloss: 0.0722528\tvalid_0's f1: 0.978079\n",
      "[75]\tvalid_0's binary_logloss: 0.0693176\tvalid_0's f1: 0.97847\n",
      "Early stopping, best iteration is:\n",
      "[81]\tvalid_0's binary_logloss: 0.0691714\tvalid_0's f1: 0.978548\n",
      "Epoch 1: 0.9791192701880842\n",
      "Training until validation scores don't improve for 10 rounds.\n",
      "[25]\tvalid_0's binary_logloss: 0.102813\tvalid_0's f1: 0.977777\n",
      "[50]\tvalid_0's binary_logloss: 0.0711963\tvalid_0's f1: 0.978522\n",
      "[75]\tvalid_0's binary_logloss: 0.0680423\tvalid_0's f1: 0.978944\n",
      "Early stopping, best iteration is:\n",
      "[81]\tvalid_0's binary_logloss: 0.067984\tvalid_0's f1: 0.979162\n",
      "Epoch 1: 0.9789127026398505\n"
     ]
    },
    {
     "data": {
      "text/plain": [
       "0.9787629444571315"
      ]
     },
     "execution_count": 166,
     "metadata": {},
     "output_type": "execute_result"
    }
   ],
   "source": [
    "params = {\n",
    "    'objective': 'binary',\n",
    "    'metric': 'binary_logloss',\n",
    "    'verbose': 0,\n",
    "    'max_bin': 1024,\n",
    "    'seed': 123,\n",
    "    'num_leaf': 100\n",
    "}\n",
    "f1_scores = []\n",
    "i = 1\n",
    "for train_index, test_index in kf.split(x_train):\n",
    "    X_train, X_test = x[train_index], x[test_index]\n",
    "    y_train, y_test = y[train_index], y[test_index]\n",
    "    X_train_train, X_train_validation, y_train_train, y_train_validation = train_test_split(X_train,y_train, train_size=0.8, test_size=0.2)\n",
    "    lgb_train = lgb.Dataset(X_train_train, y_train_train)\n",
    "    lgb_validation = lgb.Dataset(X_train_validation, y_train_validation, reference=lgb_train)\n",
    "    lgb_test = lgb.Dataset(X_test, y_test, reference=lgb_train)\n",
    "    gbm = lgb.train(params,\n",
    "                lgb_train,\n",
    "                num_boost_round = 1000,\n",
    "                valid_sets=lgb_validation,  # eval training data\n",
    "                feature_name=selected_columns,\n",
    "                early_stopping_rounds=10,\n",
    "                feval=lgb_f1_score,\n",
    "                verbose_eval=25\n",
    "            )\n",
    "    y_pred = (gbm.predict(X_test) > 0.5).astype('int')\n",
    "    f1_scores.append(f1_score(y_test, y_pred))\n",
    "    print(f'Epoch {i}: {f1_score(y_test, y_pred)}')\n",
    "np.mean(f1_scores)\n",
    "    \n",
    "    \n",
    "    "
   ]
  },
  {
   "cell_type": "code",
   "execution_count": 157,
   "metadata": {},
   "outputs": [
    {
     "name": "stdout",
     "output_type": "stream",
     "text": [
      "Training until validation scores don't improve for 10 rounds.\n",
      "[25]\tvalid_0's xentropy: 0.107169\tvalid_0's f1: 0.9765\n",
      "[50]\tvalid_0's xentropy: 0.0742366\tvalid_0's f1: 0.977667\n",
      "[75]\tvalid_0's xentropy: 0.0697341\tvalid_0's f1: 0.978204\n",
      "Early stopping, best iteration is:\n",
      "[78]\tvalid_0's xentropy: 0.0695813\tvalid_0's f1: 0.978307\n",
      "Epoch 1: 0.9781489171907677\n",
      "Training until validation scores don't improve for 10 rounds.\n",
      "[25]\tvalid_0's xentropy: 0.107417\tvalid_0's f1: 0.976671\n",
      "[50]\tvalid_0's xentropy: 0.0743356\tvalid_0's f1: 0.97751\n",
      "[75]\tvalid_0's xentropy: 0.0697527\tvalid_0's f1: 0.978106\n",
      "[100]\tvalid_0's xentropy: 0.0698929\tvalid_0's f1: 0.9781\n",
      "Early stopping, best iteration is:\n",
      "[91]\tvalid_0's xentropy: 0.0687274\tvalid_0's f1: 0.97831\n",
      "Epoch 1: 0.9788040331736807\n",
      "Training until validation scores don't improve for 10 rounds.\n",
      "[25]\tvalid_0's xentropy: 0.107187\tvalid_0's f1: 0.976003\n",
      "[50]\tvalid_0's xentropy: 0.0740076\tvalid_0's f1: 0.977315\n",
      "[75]\tvalid_0's xentropy: 0.0694763\tvalid_0's f1: 0.977867\n",
      "Early stopping, best iteration is:\n",
      "[89]\tvalid_0's xentropy: 0.0685818\tvalid_0's f1: 0.978231\n",
      "Epoch 1: 0.9787574490993787\n",
      "Training until validation scores don't improve for 10 rounds.\n",
      "[25]\tvalid_0's xentropy: 0.108084\tvalid_0's f1: 0.97631\n",
      "[50]\tvalid_0's xentropy: 0.0757792\tvalid_0's f1: 0.977109\n",
      "[75]\tvalid_0's xentropy: 0.0713186\tvalid_0's f1: 0.977512\n",
      "Early stopping, best iteration is:\n",
      "[82]\tvalid_0's xentropy: 0.0708053\tvalid_0's f1: 0.977577\n",
      "Epoch 1: 0.9788834987909826\n",
      "Training until validation scores don't improve for 10 rounds.\n",
      "[25]\tvalid_0's xentropy: 0.108375\tvalid_0's f1: 0.975467\n",
      "[50]\tvalid_0's xentropy: 0.0757774\tvalid_0's f1: 0.976917\n",
      "[75]\tvalid_0's xentropy: 0.0710228\tvalid_0's f1: 0.977549\n",
      "Early stopping, best iteration is:\n",
      "[84]\tvalid_0's xentropy: 0.0707267\tvalid_0's f1: 0.977661\n",
      "Epoch 1: 0.9784814778701988\n"
     ]
    },
    {
     "data": {
      "text/plain": [
       "0.9786150752250016"
      ]
     },
     "execution_count": 157,
     "metadata": {},
     "output_type": "execute_result"
    }
   ],
   "source": [
    "f1_scores = []\n",
    "i = 1\n",
    "params = {\n",
    "    'objective': 'binary',\n",
    "    'metric': 'xentropy',\n",
    "    'verbose': 0,\n",
    "    'max_bin': 1024,\n",
    "    'seed': 123\n",
    "}\n",
    "for train_index, test_index in kf.split(x_train):\n",
    "    X_train, X_test = x[train_index], x[test_index]\n",
    "    y_train, y_test = y[train_index], y[test_index]\n",
    "    X_train_train, X_train_validation, y_train_train, y_train_validation = train_test_split(X_train,y_train, train_size=0.8, test_size=0.2)\n",
    "    lgb_train = lgb.Dataset(X_train_train, y_train_train)\n",
    "    lgb_validation = lgb.Dataset(X_train_validation, y_train_validation, reference=lgb_train)\n",
    "    lgb_test = lgb.Dataset(X_test, y_test, reference=lgb_train)\n",
    "    gbm = lgb.train(params,\n",
    "                lgb_train,\n",
    "                num_boost_round = 1000,\n",
    "                valid_sets=lgb_validation,  # eval training data\n",
    "                feature_name=selected_columns,\n",
    "                early_stopping_rounds=10,\n",
    "                feval=lgb_f1_score,\n",
    "                verbose_eval=25\n",
    "            )\n",
    "    y_pred = (gbm.predict(X_test) > 0.5).astype('int')\n",
    "    f1_scores.append(f1_score(y_test, y_pred))\n",
    "    print(f'Epoch {i}: {f1_score(y_test, y_pred)}')\n",
    "np.mean(f1_scores)\n",
    "    \n",
    "    \n",
    "    "
   ]
  },
  {
   "cell_type": "code",
   "execution_count": 156,
   "metadata": {},
   "outputs": [
    {
     "name": "stdout",
     "output_type": "stream",
     "text": [
      "Training until validation scores don't improve for 10 rounds.\n",
      "[25]\tvalid_0's binary_logloss: 0.107029\tvalid_0's f1: 0.976429\n",
      "[50]\tvalid_0's binary_logloss: 0.0741576\tvalid_0's f1: 0.977647\n",
      "[75]\tvalid_0's binary_logloss: 0.0698099\tvalid_0's f1: 0.978248\n",
      "Early stopping, best iteration is:\n",
      "[83]\tvalid_0's binary_logloss: 0.0694406\tvalid_0's f1: 0.97837\n",
      "Epoch 1: 0.9780283210518819\n",
      "Training until validation scores don't improve for 10 rounds.\n",
      "[25]\tvalid_0's binary_logloss: 0.108159\tvalid_0's f1: 0.976129\n",
      "[50]\tvalid_0's binary_logloss: 0.0755487\tvalid_0's f1: 0.977426\n",
      "[75]\tvalid_0's binary_logloss: 0.0713391\tvalid_0's f1: 0.978202\n",
      "[100]\tvalid_0's binary_logloss: 0.0704505\tvalid_0's f1: 0.978384\n",
      "Early stopping, best iteration is:\n",
      "[100]\tvalid_0's binary_logloss: 0.0704505\tvalid_0's f1: 0.978384\n",
      "Epoch 1: 0.9787262831885015\n",
      "Training until validation scores don't improve for 10 rounds.\n",
      "[25]\tvalid_0's binary_logloss: 0.105817\tvalid_0's f1: 0.977349\n",
      "[50]\tvalid_0's binary_logloss: 0.0725866\tvalid_0's f1: 0.978407\n",
      "[75]\tvalid_0's binary_logloss: 0.0680492\tvalid_0's f1: 0.97906\n",
      "Early stopping, best iteration is:\n",
      "[79]\tvalid_0's binary_logloss: 0.0677237\tvalid_0's f1: 0.979203\n",
      "Epoch 1: 0.978731041909719\n",
      "Training until validation scores don't improve for 10 rounds.\n",
      "[25]\tvalid_0's binary_logloss: 0.107056\tvalid_0's f1: 0.976451\n",
      "[50]\tvalid_0's binary_logloss: 0.073665\tvalid_0's f1: 0.977665\n",
      "[75]\tvalid_0's binary_logloss: 0.0688309\tvalid_0's f1: 0.978473\n",
      "[100]\tvalid_0's binary_logloss: 0.0678692\tvalid_0's f1: 0.978605\n",
      "Early stopping, best iteration is:\n",
      "[100]\tvalid_0's binary_logloss: 0.0678692\tvalid_0's f1: 0.978605\n",
      "Epoch 1: 0.9787352265389179\n",
      "Training until validation scores don't improve for 10 rounds.\n",
      "[25]\tvalid_0's binary_logloss: 0.107435\tvalid_0's f1: 0.976198\n",
      "[50]\tvalid_0's binary_logloss: 0.0743041\tvalid_0's f1: 0.97747\n",
      "[75]\tvalid_0's binary_logloss: 0.069638\tvalid_0's f1: 0.978288\n",
      "Early stopping, best iteration is:\n",
      "[83]\tvalid_0's binary_logloss: 0.069141\tvalid_0's f1: 0.978385\n",
      "Epoch 1: 0.978811524609844\n"
     ]
    },
    {
     "data": {
      "text/plain": [
       "0.9786064794597727"
      ]
     },
     "execution_count": 156,
     "metadata": {},
     "output_type": "execute_result"
    }
   ],
   "source": [
    "f1_scores = []\n",
    "i = 1\n",
    "params = {\n",
    "    'objective': 'binary',\n",
    "    'metric': 'binary_logloss',\n",
    "    'verbose': 0,\n",
    "    'max_bin': 1024,\n",
    "    'seed': 123\n",
    "}\n",
    "for train_index, test_index in kf.split(x_train):\n",
    "    X_train, X_test = x[train_index], x[test_index]\n",
    "    y_train, y_test = y[train_index], y[test_index]\n",
    "    X_train_train, X_train_validation, y_train_train, y_train_validation = train_test_split(X_train,y_train, train_size=0.8, test_size=0.2)\n",
    "    lgb_train = lgb.Dataset(X_train_train, y_train_train)\n",
    "    lgb_validation = lgb.Dataset(X_train_validation, y_train_validation, reference=lgb_train)\n",
    "    lgb_test = lgb.Dataset(X_test, y_test, reference=lgb_train)\n",
    "    gbm = lgb.train(params,\n",
    "                lgb_train,\n",
    "                num_boost_round = 1000,\n",
    "                valid_sets=lgb_validation,  # eval training data\n",
    "                feature_name=selected_columns,\n",
    "                early_stopping_rounds=10,\n",
    "                feval=lgb_f1_score,\n",
    "                verbose_eval=25\n",
    "            )\n",
    "    y_pred = (gbm.predict(X_test) > 0.5).astype('int')\n",
    "    f1_scores.append(f1_score(y_test, y_pred))\n",
    "    print(f'Epoch {i}: {f1_score(y_test, y_pred)}')\n",
    "np.mean(f1_scores)\n",
    "    \n",
    "    \n",
    "    "
   ]
  },
  {
   "cell_type": "code",
   "execution_count": 145,
   "metadata": {},
   "outputs": [
    {
     "name": "stdout",
     "output_type": "stream",
     "text": [
      "Training until validation scores don't improve for 10 rounds.\n",
      "[25]\tvalid_0's binary_logloss: 0.104602\tvalid_0's f1: 0.977308\n",
      "[50]\tvalid_0's binary_logloss: 0.0708553\tvalid_0's f1: 0.978596\n",
      "[75]\tvalid_0's binary_logloss: 0.0663894\tvalid_0's f1: 0.979151\n",
      "[100]\tvalid_0's binary_logloss: 0.0703851\tvalid_0's f1: 0.978994\n",
      "Early stopping, best iteration is:\n",
      "[91]\tvalid_0's binary_logloss: 0.0654848\tvalid_0's f1: 0.979417\n",
      "Epoch 1: 0.9781625997975936\n",
      "Training until validation scores don't improve for 10 rounds.\n",
      "[25]\tvalid_0's binary_logloss: 0.108006\tvalid_0's f1: 0.976108\n",
      "[50]\tvalid_0's binary_logloss: 0.0753712\tvalid_0's f1: 0.977347\n",
      "[75]\tvalid_0's binary_logloss: 0.070944\tvalid_0's f1: 0.977884\n",
      "[100]\tvalid_0's binary_logloss: 0.0704005\tvalid_0's f1: 0.977902\n",
      "Early stopping, best iteration is:\n",
      "[91]\tvalid_0's binary_logloss: 0.0704539\tvalid_0's f1: 0.97796\n",
      "Epoch 1: 0.9787506015399422\n",
      "Training until validation scores don't improve for 10 rounds.\n",
      "[25]\tvalid_0's binary_logloss: 0.106498\tvalid_0's f1: 0.976355\n",
      "[50]\tvalid_0's binary_logloss: 0.0729553\tvalid_0's f1: 0.977813\n",
      "[75]\tvalid_0's binary_logloss: 0.0683991\tvalid_0's f1: 0.978229\n",
      "[100]\tvalid_0's binary_logloss: 0.0675565\tvalid_0's f1: 0.978541\n",
      "Early stopping, best iteration is:\n",
      "[100]\tvalid_0's binary_logloss: 0.0675565\tvalid_0's f1: 0.978541\n",
      "Epoch 1: 0.9788166326446682\n",
      "Training until validation scores don't improve for 10 rounds.\n",
      "[25]\tvalid_0's binary_logloss: 0.108017\tvalid_0's f1: 0.976019\n",
      "[50]\tvalid_0's binary_logloss: 0.0753588\tvalid_0's f1: 0.977481\n",
      "Early stopping, best iteration is:\n",
      "[64]\tvalid_0's binary_logloss: 0.0722278\tvalid_0's f1: 0.977818\n",
      "Epoch 1: 0.9787304353050741\n",
      "Training until validation scores don't improve for 10 rounds.\n",
      "[25]\tvalid_0's binary_logloss: 0.107392\tvalid_0's f1: 0.976464\n",
      "[50]\tvalid_0's binary_logloss: 0.0745721\tvalid_0's f1: 0.977745\n",
      "[75]\tvalid_0's binary_logloss: 0.0702202\tvalid_0's f1: 0.9783\n",
      "Early stopping, best iteration is:\n",
      "[83]\tvalid_0's binary_logloss: 0.06967\tvalid_0's f1: 0.978405\n",
      "Epoch 1: 0.9784932524173524\n"
     ]
    },
    {
     "data": {
      "text/plain": [
       "0.978590704340926"
      ]
     },
     "execution_count": 145,
     "metadata": {},
     "output_type": "execute_result"
    }
   ],
   "source": [
    "f1_scores = []\n",
    "i = 1\n",
    "params = {\n",
    "    'objective': 'binary',\n",
    "    'metric': 'binary_logloss',\n",
    "    'verbose': \n",
    "}\n",
    "for train_index, test_index in kf.split(x_train):\n",
    "    X_train, X_test = x[train_index], x[test_index]\n",
    "    y_train, y_test = y[train_index], y[test_index]\n",
    "    X_train_train, X_train_validation, y_train_train, y_train_validation = train_test_split(X_train,y_train, train_size=0.8, test_size=0.2)\n",
    "    lgb_train = lgb.Dataset(X_train_train, y_train_train)\n",
    "    lgb_validation = lgb.Dataset(X_train_validation, y_train_validation, reference=lgb_train)\n",
    "    lgb_test = lgb.Dataset(X_test, y_test, reference=lgb_train)\n",
    "    gbm = lgb.train(params,\n",
    "                lgb_train,\n",
    "                num_boost_round = 1000,\n",
    "                valid_sets=lgb_validation,  # eval training data\n",
    "                feature_name=selected_columns,\n",
    "                early_stopping_rounds=10,\n",
    "                feval=lgb_f1_score,\n",
    "                verbose_eval=25\n",
    "            )\n",
    "    y_pred = (gbm.predict(X_test) > 0.5).astype('int')\n",
    "    f1_scores.append(f1_score(y_test, y_pred))\n",
    "    print(f'Epoch {i}: {f1_score(y_test, y_pred)}')\n",
    "np.mean(f1_scores)\n",
    "    \n",
    "    \n",
    "    "
   ]
  },
  {
   "cell_type": "markdown",
   "metadata": {},
   "source": [
    "###### Final train"
   ]
  },
  {
   "cell_type": "code",
   "execution_count": 173,
   "metadata": {},
   "outputs": [],
   "source": [
    "params = {\n",
    "    'objective': 'binary',\n",
    "    'metric': 'binary_logloss',\n",
    "    'verbose': 0,\n",
    "    'max_bin': 1024,\n",
    "    'seed': 123,\n",
    "    'num_leaf': 100\n",
    "}"
   ]
  },
  {
   "cell_type": "code",
   "execution_count": 174,
   "metadata": {},
   "outputs": [
    {
     "name": "stdout",
     "output_type": "stream",
     "text": [
      "Training until validation scores don't improve for 10 rounds.\n",
      "[25]\tvalid_0's binary_logloss: 0.102813\tvalid_0's f1: 0.977777\n",
      "[50]\tvalid_0's binary_logloss: 0.0711963\tvalid_0's f1: 0.978522\n",
      "[75]\tvalid_0's binary_logloss: 0.0680423\tvalid_0's f1: 0.978944\n",
      "Early stopping, best iteration is:\n",
      "[81]\tvalid_0's binary_logloss: 0.067984\tvalid_0's f1: 0.979162\n"
     ]
    }
   ],
   "source": [
    "X_train, X_validation, y_train, y_validation = train_test_split(x_train, y, train_size=0.8, test_size=0.2)\n",
    "lgb_train = lgb.Dataset(X_train_train, y_train_train)\n",
    "lgb_validation = lgb.Dataset(X_train_validation, y_train_validation, reference=lgb_train)\n",
    "lgb_test = lgb.Dataset(X_test, y_test, reference=lgb_train)\n",
    "gbm = lgb.train(params,\n",
    "            lgb_train,\n",
    "            num_boost_round = 1000,\n",
    "            valid_sets=lgb_validation,  # eval training data\n",
    "            feature_name=selected_columns,\n",
    "            early_stopping_rounds=10,\n",
    "            feval=lgb_f1_score,\n",
    "            verbose_eval=25\n",
    "        )"
   ]
  },
  {
   "cell_type": "code",
   "execution_count": 175,
   "metadata": {},
   "outputs": [],
   "source": [
    "y_pred = (gbm.predict(x_test) > 0.5).astype('int')"
   ]
  },
  {
   "cell_type": "code",
   "execution_count": 176,
   "metadata": {},
   "outputs": [],
   "source": [
    "date = datetime.now().isoformat().split(\".\")[0]\n",
    "prediction_name = 'lgbm_{date}.csv'.format(date=date)\n",
    "prediction_dir = '../submissions'\n",
    "y_pred = pd.Series(data=y_pred).rename('category').rename_axis('id', axis='index')\n",
    "y_pred.to_csv(os.path.join(prediction_dir, prediction_name), header=True)"
   ]
  },
  {
   "cell_type": "code",
   "execution_count": 171,
   "metadata": {},
   "outputs": [],
   "source": [
    "def render_metric(metric_name):\n",
    "    ax = lgb.plot_metric(evals_result, metric=metric_name, figsize=(10, 5))\n",
    "    plt.show()\n",
    "\n",
    "def render_plot_importance(importance_type, max_features=10,\n",
    "                           ignore_zero=True, precision=4):\n",
    "    ax = lgb.plot_importance(gbm, importance_type=importance_type,\n",
    "                             max_num_features=max_features,\n",
    "                             ignore_zero=ignore_zero, figsize=(12, 8),\n",
    "                             precision=precision)\n",
    "    plt.show()\n",
    "def render_tree(tree_index, show_info, precision=4):\n",
    "    show_info = None if 'None' in show_info else show_info\n",
    "    return lgb.create_tree_digraph(gbm, tree_index=tree_index,\n",
    "                                   show_info=show_info, precision=precision)"
   ]
  },
  {
   "cell_type": "code",
   "execution_count": 172,
   "metadata": {},
   "outputs": [
    {
     "data": {
      "image/png": "[encoded data removed]",
      "text/plain": [
       "<Figure size 864x576 with 1 Axes>"
      ]
     },
     "metadata": {
      "needs_background": "light"
     },
     "output_type": "display_data"
    }
   ],
   "source": [
    "render_plot_importance(importance_type='split')\n"
   ]
  },
  {
   "cell_type": "code",
   "execution_count": null,
   "metadata": {},
   "outputs": [],
   "source": []
  }
 ],
 "metadata": {
  "kernelspec": {
   "display_name": "supelec",
   "language": "python",
   "name": "supelec"
  },
  "language_info": {
   "codemirror_mode": {
    "name": "ipython",
    "version": 3
   },
   "file_extension": ".py",
   "mimetype": "text/x-python",
   "name": "python",
   "nbconvert_exporter": "python",
   "pygments_lexer": "ipython3",
   "version": "3.6.5"
  }
 },
 "nbformat": 4,
 "nbformat_minor": 2
}
