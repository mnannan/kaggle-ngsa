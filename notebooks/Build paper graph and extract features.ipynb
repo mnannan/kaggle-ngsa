{
 "cells": [
  {
   "cell_type": "markdown",
   "metadata": {},
   "source": [
    "    At the beginning we wanted to know what is the distance between source and target when we removed the link between both but I did not find a way to compute that easily "
   ]
  },
  {
   "cell_type": "code",
   "execution_count": 1,
   "metadata": {},
   "outputs": [],
   "source": [
    "import sys\n",
    "sys.path.append('/Users/mnannan/dev/supelec/ngsa/assignments/Assignement 2 ')"
   ]
  },
  {
   "cell_type": "code",
   "execution_count": 2,
   "metadata": {},
   "outputs": [],
   "source": [
    "from core.io.loader import get_data_with_node_information\n"
   ]
  },
  {
   "cell_type": "code",
   "execution_count": 3,
   "metadata": {},
   "outputs": [],
   "source": [
    "import igraph"
   ]
  },
  {
   "cell_type": "code",
   "execution_count": 4,
   "metadata": {},
   "outputs": [],
   "source": [
    "import pandas as pd"
   ]
  },
  {
   "cell_type": "code",
   "execution_count": 5,
   "metadata": {},
   "outputs": [],
   "source": [
    "from typing import Tuple, Dict"
   ]
  },
  {
   "cell_type": "code",
   "execution_count": 6,
   "metadata": {},
   "outputs": [],
   "source": [
    "import numpy as np"
   ]
  },
  {
   "cell_type": "code",
   "execution_count": 58,
   "metadata": {},
   "outputs": [],
   "source": [
    "train = get_data_with_node_information('train', data_dir='../data')\n"
   ]
  },
  {
   "cell_type": "code",
   "execution_count": 8,
   "metadata": {},
   "outputs": [],
   "source": [
    "connected_train = train[train.category == 1]"
   ]
  },
  {
   "cell_type": "code",
   "execution_count": 14,
   "metadata": {},
   "outputs": [],
   "source": [
    "nodes_mapping = {value:key for key, value in train.source_id.drop_duplicates().reset_index(drop=True).to_dict().items()}"
   ]
  },
  {
   "cell_type": "code",
   "execution_count": 15,
   "metadata": {},
   "outputs": [],
   "source": [
    "edges = []\n",
    "for source_id, target_id in zip(connected_train.source_id, connected_train.target_id):\n",
    "    edges.append((nodes_mapping[source_id], nodes_mapping[target_id]))"
   ]
  },
  {
   "cell_type": "code",
   "execution_count": 16,
   "metadata": {},
   "outputs": [],
   "source": [
    "graph = igraph.Graph(edges)"
   ]
  },
  {
   "cell_type": "code",
   "execution_count": 17,
   "metadata": {},
   "outputs": [
    {
     "data": {
      "text/plain": [
       "27770"
      ]
     },
     "execution_count": 17,
     "metadata": {},
     "output_type": "execute_result"
    }
   ],
   "source": [
    "graph.vcount()"
   ]
  },
  {
   "cell_type": "code",
   "execution_count": 18,
   "metadata": {},
   "outputs": [
    {
     "data": {
      "text/plain": [
       "335130"
      ]
     },
     "execution_count": 18,
     "metadata": {},
     "output_type": "execute_result"
    }
   ],
   "source": [
    "graph.ecount()"
   ]
  },
  {
   "cell_type": "code",
   "execution_count": 19,
   "metadata": {},
   "outputs": [],
   "source": [
    "def create_paper_graph(df: pd.DataFrame) -> Tuple[igraph.Graph, Dict]:\n",
    "    nodes_mapping = df.source_id.drop_duplicates().reset_index(drop=True).to_dict()\n",
    "    nodes_mapping = {value:key for key, value in nodes_mapping.items()}\n",
    "    edges = []\n",
    "    connected_papers = df[df.category == 1]\n",
    "    for source_id, target_id in zip(connected_papers.source_id, connected_papers.target_id):\n",
    "        edges.append((nodes_mapping[source_id], nodes_mapping[target_id]))\n",
    "    graph = igraph.Graph(edges)\n",
    "    return graph, nodes_mapping"
   ]
  },
  {
   "cell_type": "code",
   "execution_count": 20,
   "metadata": {},
   "outputs": [],
   "source": [
    "graph, nodes_mapping"
   ]
  },
  {
   "cell_type": "markdown",
   "metadata": {},
   "source": [
    "# Features"
   ]
  },
  {
   "cell_type": "code",
   "execution_count": 21,
   "metadata": {},
   "outputs": [],
   "source": [
    "from features.collaboration import extract_distances_series, extract_distances_matrix"
   ]
  },
  {
   "cell_type": "code",
   "execution_count": 22,
   "metadata": {},
   "outputs": [],
   "source": [
    "import time"
   ]
  },
  {
   "cell_type": "code",
   "execution_count": 23,
   "metadata": {},
   "outputs": [],
   "source": [
    "neighbors = {}\n",
    "for i in range(graph.vcount()):\n",
    "    neighbors[i] = set(graph.neighbors(i))"
   ]
  },
  {
   "cell_type": "code",
   "execution_count": 24,
   "metadata": {},
   "outputs": [],
   "source": [
    "common_neighbors = []\n",
    "for source_id, target_id in zip(train.source_id.values, train.target_id.values):\n",
    "    source_id = nodes_mapping[source_id]\n",
    "    target_id = nodes_mapping[target_id]\n",
    "    common_neighbors.append(len(neighbors[source_id].intersection(neighbors[target_id])))"
   ]
  },
  {
   "cell_type": "code",
   "execution_count": 59,
   "metadata": {},
   "outputs": [],
   "source": [
    "train['source_target_common_neighbors'] = pd.Series(common_neighbors, index=train.index)"
   ]
  },
  {
   "cell_type": "code",
   "execution_count": 60,
   "metadata": {},
   "outputs": [],
   "source": []
  },
  {
   "cell_type": "code",
   "execution_count": 61,
   "metadata": {},
   "outputs": [],
   "source": []
  },
  {
   "cell_type": "code",
   "execution_count": 62,
   "metadata": {},
   "outputs": [],
   "source": [
    "paper_citations = train[train.category == 1].target_id.value_counts().rename('paper_citations')\n",
    "train = train.merge(paper_citations.to_frame(), how='left', right_index=True, left_on='source_id')\n",
    "\n",
    "\n",
    "train = train.merge(paper_citations.to_frame(),\n",
    "                    how='left', right_index=True, left_on='target_id',\n",
    "                    suffixes = ('_source', '_target'))\n",
    "\n",
    "\n",
    "train = train.rename(columns={'paper_citations_source': 'source_paper_citations',\n",
    "                      'paper_citations_target': 'target_paper_citations'})"
   ]
  },
  {
   "cell_type": "code",
   "execution_count": 63,
   "metadata": {},
   "outputs": [],
   "source": [
    "number_of_papers_cited = train[train.category == 1].source_id.value_counts().rename('number_of_papers_cited')\n",
    "train = train.merge(number_of_papers_cited.to_frame(), how='left', right_index=True, left_on='source_id')\n",
    "\n",
    "\n",
    "train = train.merge(number_of_papers_cited.to_frame(),\n",
    "                    how='left', right_index=True, left_on='target_id',\n",
    "                    suffixes = ('_source', '_target'))\n",
    "\n",
    "train = train.rename(columns={'number_of_papers_cited_source': 'source_number_of_papers_cited',\n",
    "                      'number_of_papers_cited_target': 'target_number_of_papers_cited'})\n"
   ]
  },
  {
   "cell_type": "code",
   "execution_count": null,
   "metadata": {},
   "outputs": [],
   "source": []
  }
 ],
 "metadata": {
  "kernelspec": {
   "display_name": "supelec",
   "language": "python",
   "name": "supelec"
  },
  "language_info": {
   "codemirror_mode": {
    "name": "ipython",
    "version": 3
   },
   "file_extension": ".py",
   "mimetype": "text/x-python",
   "name": "python",
   "nbconvert_exporter": "python",
   "pygments_lexer": "ipython3",
   "version": "3.6.5"
  }
 },
 "nbformat": 4,
 "nbformat_minor": 2
}
