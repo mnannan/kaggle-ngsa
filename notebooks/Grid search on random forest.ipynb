{
 "cells": [
  {
   "cell_type": "code",
   "execution_count": 1,
   "metadata": {},
   "outputs": [],
   "source": [
    "import os\n",
    "import sys\n",
    "sys.path.append('/Users/mnannan/dev/supelec/ngsa/assignments/Assignement 2 ')\n",
    "\n",
    "from main import pipeline\n",
    "from core.io.loader import *\n",
    "from features.features_extractor import FeaturesExtractor\n",
    "from features.processing import features_processing\n",
    "from models.cross_validation import *\n",
    "from plot.features_importances import plot_features_importance\n",
    "\n",
    "from datetime import datetime\n",
    "\n",
    "%matplotlib inline\n",
    "\n"
   ]
  },
  {
   "cell_type": "code",
   "execution_count": 2,
   "metadata": {},
   "outputs": [],
   "source": [
    "train = pd.read_csv('../data/train_2019-01-12.csv')"
   ]
  },
  {
   "cell_type": "code",
   "execution_count": 3,
   "metadata": {},
   "outputs": [],
   "source": [
    "test = pd.read_csv('../data/test_2019-01-12.csv')"
   ]
  },
  {
   "cell_type": "code",
   "execution_count": 4,
   "metadata": {},
   "outputs": [],
   "source": [
    "selected_columns = [\n",
    "    'title_overlap',\n",
    "    'publication_date_diff',\n",
    "    'common_authors',\n",
    "    'same_journal',\n",
    "    'authors_collaboration',\n",
    "    'collaboration_min_distance',\n",
    "    'collaboration_mean_distance',\n",
    "    'writer_in_target_paper',\n",
    "    'writer_collaborators',\n",
    "    'writer_collaboration_min_distance',\n",
    "    'writer_collaboration_mean_distance',\n",
    "    'source_paper_citations',\n",
    "    'target_paper_citations',\n",
    "    'source_number_of_papers_cited',\n",
    "    'target_number_of_papers_cited',\n",
    "    'adamic_adar',\n",
    "    'common_neighbors',\n",
    "    'jaccard_coefficient',\n",
    "    'preferential_attachment',\n",
    "    'max_authors_adamic_adar',\n",
    "    'max_authors_common_neighbors',\n",
    "    'max_authors_jaccard_coefficient',\n",
    "    'max_authors_preferential_attachment',\n",
    "    'title_cosine_similarity',\n",
    "    'abstract_cosine_similarity',\n",
    "    'journal_cosine_similarity', \n",
    "    'source_title_target_abstract_cosimilarity',\n",
    "    'source_abstract_target_title_cosimilarity',\n",
    "    'pagerank_source',\n",
    "    'pagerank_target'\n",
    "]\n",
    "\n",
    "x_train = features_processing(train[selected_columns]).values\n",
    "x_test = features_processing(test[selected_columns]).values\n",
    "y_train = train.category.values"
   ]
  },
  {
   "cell_type": "code",
   "execution_count": 7,
   "metadata": {},
   "outputs": [],
   "source": [
    "from sklearn.ensemble import RandomForestClassifier\n",
    "\n",
    "seed = 123\n",
    "\n",
    "model_args = {\n",
    "    'n_jobs': -1,\n",
    "    'n_estimators': 100,\n",
    "    'random_state': seed,\n",
    "    'criterion': 'entropy',\n",
    "    'max_features': 'log2'\n",
    "}"
   ]
  },
  {
   "cell_type": "code",
   "execution_count": null,
   "metadata": {},
   "outputs": [],
   "source": [
    "y_pred, f1_list = cross_validation(RandomForestClassifier, model_args, x_train, y_train)"
   ]
  },
  {
   "cell_type": "code",
   "execution_count": null,
   "metadata": {},
   "outputs": [],
   "source": [
    "np.mean(f1_list)"
   ]
  },
  {
   "cell_type": "code",
   "execution_count": 5,
   "metadata": {},
   "outputs": [],
   "source": [
    "from sklearn.model_selection import GridSearchCV\n"
   ]
  },
  {
   "cell_type": "code",
   "execution_count": 16,
   "metadata": {},
   "outputs": [],
   "source": [
    "\n",
    "# Create the parameter grid based on the results of random search \n",
    "param_grid = {\n",
    "    'random_state': [seed],\n",
    "    'criterion': ['entropy'],\n",
    "    'max_features': ['log2', 'sqrt'],\n",
    "    'min_samples_leaf': [1, 3],\n",
    "    'n_estimators': [100, 500],\n",
    "    'max_depth': [None, 10]\n",
    "}\n",
    "\n",
    "# Create a based model\n",
    "rf = RandomForestClassifier()\n",
    "\n",
    "# Instantiate the grid search model\n",
    "grid_search = GridSearchCV(estimator = rf, param_grid = param_grid, \n",
    "                          cv = 5, n_jobs = -1, verbose = 2, scoring='f1')"
   ]
  },
  {
   "cell_type": "code",
   "execution_count": 17,
   "metadata": {},
   "outputs": [
    {
     "name": "stdout",
     "output_type": "stream",
     "text": [
      "Fitting 5 folds for each of 16 candidates, totalling 80 fits\n"
     ]
    },
    {
     "name": "stderr",
     "output_type": "stream",
     "text": [
      "[Parallel(n_jobs=-1)]: Using backend LokyBackend with 8 concurrent workers.\n",
      "[Parallel(n_jobs=-1)]: Done  25 tasks      | elapsed: 49.0min\n",
      "[Parallel(n_jobs=-1)]: Done  80 out of  80 | elapsed: 128.7min finished\n"
     ]
    },
    {
     "data": {
      "text/plain": [
       "GridSearchCV(cv=5, error_score='raise-deprecating',\n",
       "       estimator=RandomForestClassifier(bootstrap=True, class_weight=None, criterion='gini',\n",
       "            max_depth=None, max_features='auto', max_leaf_nodes=None,\n",
       "            min_impurity_decrease=0.0, min_impurity_split=None,\n",
       "            min_samples_leaf=1, min_samples_split=2,\n",
       "            min_weight_fraction_leaf=0.0, n_estimators='warn', n_jobs=None,\n",
       "            oob_score=False, random_state=None, verbose=0,\n",
       "            warm_start=False),\n",
       "       fit_params=None, iid='warn', n_jobs=-1,\n",
       "       param_grid={'random_state': [123], 'criterion': ['entropy'], 'max_features': ['log2', 'sqrt'], 'min_samples_leaf': [1, 3], 'n_estimators': [100, 500], 'max_depth': [None, 10]},\n",
       "       pre_dispatch='2*n_jobs', refit=True, return_train_score='warn',\n",
       "       scoring='f1', verbose=2)"
      ]
     },
     "execution_count": 17,
     "metadata": {},
     "output_type": "execute_result"
    }
   ],
   "source": [
    "grid_search.fit(x_train, y_train)"
   ]
  },
  {
   "cell_type": "code",
   "execution_count": 18,
   "metadata": {},
   "outputs": [
    {
     "name": "stderr",
     "output_type": "stream",
     "text": [
      "/Users/mnannan/.virtualenvs/supelec/lib/python3.6/site-packages/sklearn/utils/deprecation.py:125: FutureWarning: You are accessing a training score ('split0_train_score'), which will not be available by default any more in 0.21. If you need training scores, please set return_train_score=True\n",
      "  warnings.warn(*warn_args, **warn_kwargs)\n",
      "/Users/mnannan/.virtualenvs/supelec/lib/python3.6/site-packages/sklearn/utils/deprecation.py:125: FutureWarning: You are accessing a training score ('split1_train_score'), which will not be available by default any more in 0.21. If you need training scores, please set return_train_score=True\n",
      "  warnings.warn(*warn_args, **warn_kwargs)\n",
      "/Users/mnannan/.virtualenvs/supelec/lib/python3.6/site-packages/sklearn/utils/deprecation.py:125: FutureWarning: You are accessing a training score ('split2_train_score'), which will not be available by default any more in 0.21. If you need training scores, please set return_train_score=True\n",
      "  warnings.warn(*warn_args, **warn_kwargs)\n",
      "/Users/mnannan/.virtualenvs/supelec/lib/python3.6/site-packages/sklearn/utils/deprecation.py:125: FutureWarning: You are accessing a training score ('split3_train_score'), which will not be available by default any more in 0.21. If you need training scores, please set return_train_score=True\n",
      "  warnings.warn(*warn_args, **warn_kwargs)\n",
      "/Users/mnannan/.virtualenvs/supelec/lib/python3.6/site-packages/sklearn/utils/deprecation.py:125: FutureWarning: You are accessing a training score ('split4_train_score'), which will not be available by default any more in 0.21. If you need training scores, please set return_train_score=True\n",
      "  warnings.warn(*warn_args, **warn_kwargs)\n",
      "/Users/mnannan/.virtualenvs/supelec/lib/python3.6/site-packages/sklearn/utils/deprecation.py:125: FutureWarning: You are accessing a training score ('mean_train_score'), which will not be available by default any more in 0.21. If you need training scores, please set return_train_score=True\n",
      "  warnings.warn(*warn_args, **warn_kwargs)\n",
      "/Users/mnannan/.virtualenvs/supelec/lib/python3.6/site-packages/sklearn/utils/deprecation.py:125: FutureWarning: You are accessing a training score ('std_train_score'), which will not be available by default any more in 0.21. If you need training scores, please set return_train_score=True\n",
      "  warnings.warn(*warn_args, **warn_kwargs)\n"
     ]
    },
    {
     "data": {
      "text/plain": [
       "{'mean_fit_time': array([ 302.98022723, 1449.44506445,  288.75474133, 1358.46193409,\n",
       "         326.68071985, 1439.74774594,  283.21992354, 1412.41321607,\n",
       "         173.18847651,  859.29357862,  171.70427408,  862.46279078,\n",
       "         205.15506039, 1020.42869539,  204.93303137,  867.96339979]),\n",
       " 'std_fit_time': array([ 0.93270147, 13.90796791,  2.48703133, 44.83735328, 10.32769653,\n",
       "         3.27744875,  0.84125962,  4.14546317,  0.33579169,  2.65066801,\n",
       "         1.26638552,  1.56149141,  0.44503739,  3.50469635,  0.67771408,\n",
       "        73.58205227]),\n",
       " 'mean_score_time': array([ 3.76336198, 23.73924508,  4.34268742, 16.7774797 ,  3.62117615,\n",
       "        17.40382009,  3.26614528, 16.28900313,  1.85477982,  9.16271696,\n",
       "         1.86939425,  9.07757139,  1.87317538,  8.73121738,  1.86457562,\n",
       "         5.9815712 ]),\n",
       " 'std_score_time': array([0.1096132 , 2.48309205, 0.37391619, 0.52187826, 0.16599082,\n",
       "        0.32706351, 0.04213364, 0.25884885, 0.02316568, 0.04732964,\n",
       "        0.03247299, 0.04903022, 0.01475285, 0.37842327, 0.01758503,\n",
       "        0.51682199]),\n",
       " 'param_criterion': masked_array(data=['entropy', 'entropy', 'entropy', 'entropy', 'entropy',\n",
       "                    'entropy', 'entropy', 'entropy', 'entropy', 'entropy',\n",
       "                    'entropy', 'entropy', 'entropy', 'entropy', 'entropy',\n",
       "                    'entropy'],\n",
       "              mask=[False, False, False, False, False, False, False, False,\n",
       "                    False, False, False, False, False, False, False, False],\n",
       "        fill_value='?',\n",
       "             dtype=object),\n",
       " 'param_max_depth': masked_array(data=[None, None, None, None, None, None, None, None, 10, 10,\n",
       "                    10, 10, 10, 10, 10, 10],\n",
       "              mask=[False, False, False, False, False, False, False, False,\n",
       "                    False, False, False, False, False, False, False, False],\n",
       "        fill_value='?',\n",
       "             dtype=object),\n",
       " 'param_max_features': masked_array(data=['log2', 'log2', 'log2', 'log2', 'sqrt', 'sqrt', 'sqrt',\n",
       "                    'sqrt', 'log2', 'log2', 'log2', 'log2', 'sqrt', 'sqrt',\n",
       "                    'sqrt', 'sqrt'],\n",
       "              mask=[False, False, False, False, False, False, False, False,\n",
       "                    False, False, False, False, False, False, False, False],\n",
       "        fill_value='?',\n",
       "             dtype=object),\n",
       " 'param_min_samples_leaf': masked_array(data=[1, 1, 3, 3, 1, 1, 3, 3, 1, 1, 3, 3, 1, 1, 3, 3],\n",
       "              mask=[False, False, False, False, False, False, False, False,\n",
       "                    False, False, False, False, False, False, False, False],\n",
       "        fill_value='?',\n",
       "             dtype=object),\n",
       " 'param_n_estimators': masked_array(data=[100, 500, 100, 500, 100, 500, 100, 500, 100, 500, 100,\n",
       "                    500, 100, 500, 100, 500],\n",
       "              mask=[False, False, False, False, False, False, False, False,\n",
       "                    False, False, False, False, False, False, False, False],\n",
       "        fill_value='?',\n",
       "             dtype=object),\n",
       " 'param_random_state': masked_array(data=[123, 123, 123, 123, 123, 123, 123, 123, 123, 123, 123,\n",
       "                    123, 123, 123, 123, 123],\n",
       "              mask=[False, False, False, False, False, False, False, False,\n",
       "                    False, False, False, False, False, False, False, False],\n",
       "        fill_value='?',\n",
       "             dtype=object),\n",
       " 'params': [{'criterion': 'entropy',\n",
       "   'max_depth': None,\n",
       "   'max_features': 'log2',\n",
       "   'min_samples_leaf': 1,\n",
       "   'n_estimators': 100,\n",
       "   'random_state': 123},\n",
       "  {'criterion': 'entropy',\n",
       "   'max_depth': None,\n",
       "   'max_features': 'log2',\n",
       "   'min_samples_leaf': 1,\n",
       "   'n_estimators': 500,\n",
       "   'random_state': 123},\n",
       "  {'criterion': 'entropy',\n",
       "   'max_depth': None,\n",
       "   'max_features': 'log2',\n",
       "   'min_samples_leaf': 3,\n",
       "   'n_estimators': 100,\n",
       "   'random_state': 123},\n",
       "  {'criterion': 'entropy',\n",
       "   'max_depth': None,\n",
       "   'max_features': 'log2',\n",
       "   'min_samples_leaf': 3,\n",
       "   'n_estimators': 500,\n",
       "   'random_state': 123},\n",
       "  {'criterion': 'entropy',\n",
       "   'max_depth': None,\n",
       "   'max_features': 'sqrt',\n",
       "   'min_samples_leaf': 1,\n",
       "   'n_estimators': 100,\n",
       "   'random_state': 123},\n",
       "  {'criterion': 'entropy',\n",
       "   'max_depth': None,\n",
       "   'max_features': 'sqrt',\n",
       "   'min_samples_leaf': 1,\n",
       "   'n_estimators': 500,\n",
       "   'random_state': 123},\n",
       "  {'criterion': 'entropy',\n",
       "   'max_depth': None,\n",
       "   'max_features': 'sqrt',\n",
       "   'min_samples_leaf': 3,\n",
       "   'n_estimators': 100,\n",
       "   'random_state': 123},\n",
       "  {'criterion': 'entropy',\n",
       "   'max_depth': None,\n",
       "   'max_features': 'sqrt',\n",
       "   'min_samples_leaf': 3,\n",
       "   'n_estimators': 500,\n",
       "   'random_state': 123},\n",
       "  {'criterion': 'entropy',\n",
       "   'max_depth': 10,\n",
       "   'max_features': 'log2',\n",
       "   'min_samples_leaf': 1,\n",
       "   'n_estimators': 100,\n",
       "   'random_state': 123},\n",
       "  {'criterion': 'entropy',\n",
       "   'max_depth': 10,\n",
       "   'max_features': 'log2',\n",
       "   'min_samples_leaf': 1,\n",
       "   'n_estimators': 500,\n",
       "   'random_state': 123},\n",
       "  {'criterion': 'entropy',\n",
       "   'max_depth': 10,\n",
       "   'max_features': 'log2',\n",
       "   'min_samples_leaf': 3,\n",
       "   'n_estimators': 100,\n",
       "   'random_state': 123},\n",
       "  {'criterion': 'entropy',\n",
       "   'max_depth': 10,\n",
       "   'max_features': 'log2',\n",
       "   'min_samples_leaf': 3,\n",
       "   'n_estimators': 500,\n",
       "   'random_state': 123},\n",
       "  {'criterion': 'entropy',\n",
       "   'max_depth': 10,\n",
       "   'max_features': 'sqrt',\n",
       "   'min_samples_leaf': 1,\n",
       "   'n_estimators': 100,\n",
       "   'random_state': 123},\n",
       "  {'criterion': 'entropy',\n",
       "   'max_depth': 10,\n",
       "   'max_features': 'sqrt',\n",
       "   'min_samples_leaf': 1,\n",
       "   'n_estimators': 500,\n",
       "   'random_state': 123},\n",
       "  {'criterion': 'entropy',\n",
       "   'max_depth': 10,\n",
       "   'max_features': 'sqrt',\n",
       "   'min_samples_leaf': 3,\n",
       "   'n_estimators': 100,\n",
       "   'random_state': 123},\n",
       "  {'criterion': 'entropy',\n",
       "   'max_depth': 10,\n",
       "   'max_features': 'sqrt',\n",
       "   'min_samples_leaf': 3,\n",
       "   'n_estimators': 500,\n",
       "   'random_state': 123}],\n",
       " 'split0_test_score': array([0.97766969, 0.97764365, 0.97742182, 0.97740478, 0.97779746,\n",
       "        0.97774876, 0.97746855, 0.97774676, 0.97483213, 0.97471354,\n",
       "        0.97451947, 0.97452181, 0.97517429, 0.97514122, 0.97506884,\n",
       "        0.9751136 ]),\n",
       " 'split1_test_score': array([0.97796524, 0.9779212 , 0.97777144, 0.97785585, 0.97820801,\n",
       "        0.97832204, 0.97808499, 0.97807863, 0.97489858, 0.97496143,\n",
       "        0.97506321, 0.9751392 , 0.9756824 , 0.97566149, 0.97561819,\n",
       "        0.97561746]),\n",
       " 'split2_test_score': array([0.97781747, 0.97812355, 0.97802759, 0.97796689, 0.97819366,\n",
       "        0.97827457, 0.9780092 , 0.97813789, 0.97550888, 0.97542044,\n",
       "        0.97552463, 0.9755184 , 0.97595406, 0.97600289, 0.9760421 ,\n",
       "        0.97599038]),\n",
       " 'split3_test_score': array([0.97788488, 0.97792859, 0.97758454, 0.97773706, 0.9782026 ,\n",
       "        0.97808443, 0.97795293, 0.9778772 , 0.97520897, 0.97527028,\n",
       "        0.97499605, 0.97517813, 0.97583132, 0.97562957, 0.97566039,\n",
       "        0.97562957]),\n",
       " 'split4_test_score': array([0.97717101, 0.97748515, 0.97721298, 0.97744203, 0.97771071,\n",
       "        0.97775176, 0.97754218, 0.97753585, 0.97487672, 0.97482927,\n",
       "        0.97484902, 0.97485281, 0.97542439, 0.97528262, 0.97525986,\n",
       "        0.97527231]),\n",
       " 'mean_test_score': array([0.97770166, 0.97782043, 0.97760367, 0.97768132, 0.97802249,\n",
       "        0.97803631, 0.97781157, 0.97787527, 0.97506506, 0.97503899,\n",
       "        0.97499047, 0.97504207, 0.97561329, 0.97554356, 0.97552987,\n",
       "        0.97552466]),\n",
       " 'std_test_score': array([0.00028251, 0.00022689, 0.00028068, 0.00022309, 0.00022091,\n",
       "        0.00024673, 0.00025457, 0.00022002, 0.0002589 , 0.00026643,\n",
       "        0.00032635, 0.00033506, 0.00028172, 0.00030406, 0.00033843,\n",
       "        0.00030632]),\n",
       " 'rank_test_score': array([ 6,  4,  8,  7,  2,  1,  5,  3, 13, 15, 16, 14,  9, 10, 11, 12],\n",
       "       dtype=int32),\n",
       " 'split0_train_score': array([0.99999068, 1.        , 0.98814158, 0.98822405, 0.99999068,\n",
       "        1.        , 0.98926834, 0.98932112, 0.97622861, 0.97606302,\n",
       "        0.97584172, 0.97593092, 0.97669566, 0.97670064, 0.97662411,\n",
       "        0.97655798]),\n",
       " 'split1_train_score': array([0.99999068, 1.        , 0.98802245, 0.98819869, 0.99999441,\n",
       "        1.        , 0.98900193, 0.98906848, 0.97589212, 0.97595936,\n",
       "        0.9760183 , 0.97598501, 0.97658043, 0.97660266, 0.97654854,\n",
       "        0.97648888]),\n",
       " 'split2_train_score': array([0.99998322, 1.        , 0.98820892, 0.98821928, 0.99998881,\n",
       "        1.        , 0.98916793, 0.98915946, 0.9759551 , 0.97597438,\n",
       "        0.97581416, 0.97596505, 0.97672591, 0.97662585, 0.97659008,\n",
       "        0.97656899]),\n",
       " 'split3_train_score': array([0.99998695, 1.        , 0.9881915 , 0.98817636, 0.99998881,\n",
       "        1.        , 0.98915009, 0.98921036, 0.97598929, 0.9760747 ,\n",
       "        0.97576171, 0.97587651, 0.97678738, 0.97667658, 0.97649939,\n",
       "        0.97649581]),\n",
       " 'split4_train_score': array([0.99998881, 1.        , 0.98819243, 0.98824217, 0.99998135,\n",
       "        1.        , 0.98922221, 0.98923397, 0.97623705, 0.97618385,\n",
       "        0.97609254, 0.97618134, 0.97685732, 0.97673841, 0.97652704,\n",
       "        0.97656071]),\n",
       " 'mean_train_score': array([0.99998806, 1.        , 0.98815138, 0.98821211, 0.99998881,\n",
       "        1.        , 0.9891621 , 0.98919868, 0.97606043, 0.97605106,\n",
       "        0.97590569, 0.97598777, 0.97672934, 0.97666883, 0.97655783,\n",
       "        0.97653447]),\n",
       " 'std_train_score': array([2.79127080e-06, 0.00000000e+00, 6.83004349e-05, 2.26089646e-05,\n",
       "        4.25284481e-06, 0.00000000e+00, 9.02596264e-05, 8.35045972e-05,\n",
       "        1.44197831e-04, 8.07752693e-05, 1.27115654e-04, 1.03541402e-04,\n",
       "        9.28098428e-05, 4.92750245e-05, 4.44569326e-05, 3.46575712e-05])}"
      ]
     },
     "execution_count": 18,
     "metadata": {},
     "output_type": "execute_result"
    }
   ],
   "source": [
    "(grid_search.cv_results_"
   ]
  },
  {
   "cell_type": "code",
   "execution_count": 29,
   "metadata": {},
   "outputs": [],
   "source": [
    "result = sorted(\n",
    "    list(\n",
    "        zip(grid_search.cv_results_['params'], grid_search.cv_results_['mean_test_score'])\n",
    "    ),\n",
    "    key=lambda x: (x[0]['max_features'], x[0]['min_samples_leaf'], x[0]['n_estimators'])\n",
    ")"
   ]
  },
  {
   "cell_type": "code",
   "execution_count": 46,
   "metadata": {},
   "outputs": [
    {
     "data": {
      "text/html": [
       "<div>\n",
       "<style scoped>\n",
       "    .dataframe tbody tr th:only-of-type {\n",
       "        vertical-align: middle;\n",
       "    }\n",
       "\n",
       "    .dataframe tbody tr th {\n",
       "        vertical-align: top;\n",
       "    }\n",
       "\n",
       "    .dataframe thead th {\n",
       "        text-align: right;\n",
       "    }\n",
       "</style>\n",
       "<table border=\"1\" class=\"dataframe\">\n",
       "  <thead>\n",
       "    <tr style=\"text-align: right;\">\n",
       "      <th></th>\n",
       "      <th>f1</th>\n",
       "    </tr>\n",
       "  </thead>\n",
       "  <tbody>\n",
       "    <tr>\n",
       "      <th>{'criterion': 'entropy', 'max_depth': None, 'max_features': 'sqrt', 'min_samples_leaf': 1, 'n_estimators': 500, 'random_state': 123}</th>\n",
       "      <td>0.978036</td>\n",
       "    </tr>\n",
       "    <tr>\n",
       "      <th>{'criterion': 'entropy', 'max_depth': None, 'max_features': 'sqrt', 'min_samples_leaf': 1, 'n_estimators': 100, 'random_state': 123}</th>\n",
       "      <td>0.978022</td>\n",
       "    </tr>\n",
       "    <tr>\n",
       "      <th>{'criterion': 'entropy', 'max_depth': None, 'max_features': 'sqrt', 'min_samples_leaf': 3, 'n_estimators': 500, 'random_state': 123}</th>\n",
       "      <td>0.977875</td>\n",
       "    </tr>\n",
       "    <tr>\n",
       "      <th>{'criterion': 'entropy', 'max_depth': None, 'max_features': 'log2', 'min_samples_leaf': 1, 'n_estimators': 500, 'random_state': 123}</th>\n",
       "      <td>0.977820</td>\n",
       "    </tr>\n",
       "    <tr>\n",
       "      <th>{'criterion': 'entropy', 'max_depth': None, 'max_features': 'sqrt', 'min_samples_leaf': 3, 'n_estimators': 100, 'random_state': 123}</th>\n",
       "      <td>0.977812</td>\n",
       "    </tr>\n",
       "    <tr>\n",
       "      <th>{'criterion': 'entropy', 'max_depth': None, 'max_features': 'log2', 'min_samples_leaf': 1, 'n_estimators': 100, 'random_state': 123}</th>\n",
       "      <td>0.977702</td>\n",
       "    </tr>\n",
       "    <tr>\n",
       "      <th>{'criterion': 'entropy', 'max_depth': None, 'max_features': 'log2', 'min_samples_leaf': 3, 'n_estimators': 500, 'random_state': 123}</th>\n",
       "      <td>0.977681</td>\n",
       "    </tr>\n",
       "    <tr>\n",
       "      <th>{'criterion': 'entropy', 'max_depth': None, 'max_features': 'log2', 'min_samples_leaf': 3, 'n_estimators': 100, 'random_state': 123}</th>\n",
       "      <td>0.977604</td>\n",
       "    </tr>\n",
       "    <tr>\n",
       "      <th>{'criterion': 'entropy', 'max_depth': 10, 'max_features': 'sqrt', 'min_samples_leaf': 1, 'n_estimators': 100, 'random_state': 123}</th>\n",
       "      <td>0.975613</td>\n",
       "    </tr>\n",
       "    <tr>\n",
       "      <th>{'criterion': 'entropy', 'max_depth': 10, 'max_features': 'sqrt', 'min_samples_leaf': 1, 'n_estimators': 500, 'random_state': 123}</th>\n",
       "      <td>0.975544</td>\n",
       "    </tr>\n",
       "    <tr>\n",
       "      <th>{'criterion': 'entropy', 'max_depth': 10, 'max_features': 'sqrt', 'min_samples_leaf': 3, 'n_estimators': 100, 'random_state': 123}</th>\n",
       "      <td>0.975530</td>\n",
       "    </tr>\n",
       "    <tr>\n",
       "      <th>{'criterion': 'entropy', 'max_depth': 10, 'max_features': 'sqrt', 'min_samples_leaf': 3, 'n_estimators': 500, 'random_state': 123}</th>\n",
       "      <td>0.975525</td>\n",
       "    </tr>\n",
       "    <tr>\n",
       "      <th>{'criterion': 'entropy', 'max_depth': 10, 'max_features': 'log2', 'min_samples_leaf': 1, 'n_estimators': 100, 'random_state': 123}</th>\n",
       "      <td>0.975065</td>\n",
       "    </tr>\n",
       "    <tr>\n",
       "      <th>{'criterion': 'entropy', 'max_depth': 10, 'max_features': 'log2', 'min_samples_leaf': 3, 'n_estimators': 500, 'random_state': 123}</th>\n",
       "      <td>0.975042</td>\n",
       "    </tr>\n",
       "    <tr>\n",
       "      <th>{'criterion': 'entropy', 'max_depth': 10, 'max_features': 'log2', 'min_samples_leaf': 1, 'n_estimators': 500, 'random_state': 123}</th>\n",
       "      <td>0.975039</td>\n",
       "    </tr>\n",
       "    <tr>\n",
       "      <th>{'criterion': 'entropy', 'max_depth': 10, 'max_features': 'log2', 'min_samples_leaf': 3, 'n_estimators': 100, 'random_state': 123}</th>\n",
       "      <td>0.974990</td>\n",
       "    </tr>\n",
       "  </tbody>\n",
       "</table>\n",
       "</div>"
      ],
      "text/plain": [
       "                                                          f1\n",
       "{'criterion': 'entropy', 'max_depth': None, 'ma...  0.978036\n",
       "{'criterion': 'entropy', 'max_depth': None, 'ma...  0.978022\n",
       "{'criterion': 'entropy', 'max_depth': None, 'ma...  0.977875\n",
       "{'criterion': 'entropy', 'max_depth': None, 'ma...  0.977820\n",
       "{'criterion': 'entropy', 'max_depth': None, 'ma...  0.977812\n",
       "{'criterion': 'entropy', 'max_depth': None, 'ma...  0.977702\n",
       "{'criterion': 'entropy', 'max_depth': None, 'ma...  0.977681\n",
       "{'criterion': 'entropy', 'max_depth': None, 'ma...  0.977604\n",
       "{'criterion': 'entropy', 'max_depth': 10, 'max_...  0.975613\n",
       "{'criterion': 'entropy', 'max_depth': 10, 'max_...  0.975544\n",
       "{'criterion': 'entropy', 'max_depth': 10, 'max_...  0.975530\n",
       "{'criterion': 'entropy', 'max_depth': 10, 'max_...  0.975525\n",
       "{'criterion': 'entropy', 'max_depth': 10, 'max_...  0.975065\n",
       "{'criterion': 'entropy', 'max_depth': 10, 'max_...  0.975042\n",
       "{'criterion': 'entropy', 'max_depth': 10, 'max_...  0.975039\n",
       "{'criterion': 'entropy', 'max_depth': 10, 'max_...  0.974990"
      ]
     },
     "execution_count": 46,
     "metadata": {},
     "output_type": "execute_result"
    }
   ],
   "source": [
    "pd.Series(list(elt[1] for elt in result), index=list(elt[0] for elt in result))\\\n",
    ".rename('f1') \\\n",
    ".sort_values(ascending=False).to_frame()\n"
   ]
  },
  {
   "cell_type": "markdown",
   "metadata": {},
   "source": [
    "###### Predict"
   ]
  },
  {
   "cell_type": "code",
   "execution_count": 48,
   "metadata": {},
   "outputs": [],
   "source": [
    "model_args = grid_search.best_params_"
   ]
  },
  {
   "cell_type": "code",
   "execution_count": 54,
   "metadata": {},
   "outputs": [],
   "source": [
    "rf = RandomForestClassifier(**model_args, n_jobs=-1)"
   ]
  },
  {
   "cell_type": "code",
   "execution_count": 55,
   "metadata": {},
   "outputs": [
    {
     "data": {
      "text/plain": [
       "RandomForestClassifier(bootstrap=True, class_weight=None, criterion='entropy',\n",
       "            max_depth=None, max_features='sqrt', max_leaf_nodes=None,\n",
       "            min_impurity_decrease=0.0, min_impurity_split=None,\n",
       "            min_samples_leaf=1, min_samples_split=2,\n",
       "            min_weight_fraction_leaf=0.0, n_estimators=500, n_jobs=-1,\n",
       "            oob_score=False, random_state=123, verbose=0, warm_start=False)"
      ]
     },
     "execution_count": 55,
     "metadata": {},
     "output_type": "execute_result"
    }
   ],
   "source": [
    "rf.fit(x_train, y_train)"
   ]
  },
  {
   "cell_type": "code",
   "execution_count": 56,
   "metadata": {},
   "outputs": [
    {
     "name": "stdout",
     "output_type": "stream",
     "text": [
      "adamic_adar                                  0.234544\n",
      "jaccard_coefficient                          0.199596\n",
      "common_neighbors                             0.175324\n",
      "abstract_cosine_similarity                   0.074040\n",
      "publication_date_diff                        0.066990\n",
      "target_paper_citations                       0.038014\n",
      "preferential_attachment                      0.035275\n",
      "source_abstract_target_title_cosimilarity    0.032042\n",
      "source_title_target_abstract_cosimilarity    0.023398\n",
      "pagerank_target                              0.019975\n",
      "source_number_of_papers_cited                0.015319\n",
      "target_number_of_papers_cited                0.012052\n",
      "pagerank_source                              0.009573\n",
      "collaboration_mean_distance                  0.009392\n",
      "title_cosine_similarity                      0.008267\n",
      "source_paper_citations                       0.007864\n",
      "writer_collaboration_mean_distance           0.006339\n",
      "journal_cosine_similarity                    0.006083\n",
      "max_authors_preferential_attachment          0.005857\n",
      "collaboration_min_distance                   0.005037\n",
      "title_overlap                                0.004385\n",
      "writer_collaboration_min_distance            0.003583\n",
      "common_authors                               0.001579\n",
      "max_authors_adamic_adar                      0.001425\n",
      "max_authors_jaccard_coefficient              0.001146\n",
      "authors_collaboration                        0.000855\n",
      "same_journal                                 0.000632\n",
      "max_authors_common_neighbors                 0.000527\n",
      "writer_collaborators                         0.000525\n",
      "writer_in_target_paper                       0.000362\n",
      "dtype: float64\n"
     ]
    },
    {
     "data": {
      "image/png": "[encoded data removed]",
      "text/plain": [
       "<Figure size 432x288 with 1 Axes>"
      ]
     },
     "metadata": {
      "needs_background": "light"
     },
     "output_type": "display_data"
    }
   ],
   "source": [
    "plot_features_importance(rf.feature_importances_, selected_columns)"
   ]
  },
  {
   "cell_type": "code",
   "execution_count": 57,
   "metadata": {},
   "outputs": [],
   "source": [
    "date = datetime.now().isoformat().split(\".\")[0]\n",
    "prediction_name = 'rf_grid_search{date}.csv'.format(date=date)\n",
    "prediction_dir = '../submissions'\n",
    "y_pred = rf.predict(x_test)\n",
    "y_pred = pd.Series(data=y_pred).rename('category').rename_axis('id', axis='index')\n",
    "y_pred.to_csv(os.path.join(prediction_dir, prediction_name), header=True)"
   ]
  },
  {
   "cell_type": "markdown",
   "metadata": {},
   "source": [
    "###### Best model perfom 0.96993"
   ]
  },
  {
   "cell_type": "code",
   "execution_count": 58,
   "metadata": {},
   "outputs": [],
   "source": [
    "rf2 = RandomForestClassifier(n_jobs=-1, n_estimators=500, criterion=\"entropy\", max_features=\"log2\", max_depth=10)\n"
   ]
  },
  {
   "cell_type": "code",
   "execution_count": 61,
   "metadata": {
    "collapsed": true
   },
   "outputs": [
    {
     "ename": "ValueError",
     "evalue": "Input contains NaN, infinity or a value too large for dtype('float32').",
     "output_type": "error",
     "traceback": [
      "\u001b[0;31m---------------------------------------------------------------------------\u001b[0m",
      "\u001b[0;31mValueError\u001b[0m                                Traceback (most recent call last)",
      "\u001b[0;32m<ipython-input-61-dfd98c30a07f>\u001b[0m in \u001b[0;36m<module>\u001b[0;34m\u001b[0m\n\u001b[0;32m----> 1\u001b[0;31m \u001b[0mrf2\u001b[0m\u001b[0;34m.\u001b[0m\u001b[0mfit\u001b[0m\u001b[0;34m(\u001b[0m\u001b[0mtrain\u001b[0m\u001b[0;34m[\u001b[0m\u001b[0mselected_columns\u001b[0m\u001b[0;34m]\u001b[0m\u001b[0;34m,\u001b[0m \u001b[0mtrain\u001b[0m\u001b[0;34m.\u001b[0m\u001b[0mcategory\u001b[0m\u001b[0;34m)\u001b[0m\u001b[0;34m\u001b[0m\u001b[0m\n\u001b[0m",
      "\u001b[0;32m~/.virtualenvs/supelec/lib/python3.6/site-packages/sklearn/ensemble/forest.py\u001b[0m in \u001b[0;36mfit\u001b[0;34m(self, X, y, sample_weight)\u001b[0m\n\u001b[1;32m    248\u001b[0m \u001b[0;34m\u001b[0m\u001b[0m\n\u001b[1;32m    249\u001b[0m         \u001b[0;31m# Validate or convert input data\u001b[0m\u001b[0;34m\u001b[0m\u001b[0;34m\u001b[0m\u001b[0m\n\u001b[0;32m--> 250\u001b[0;31m         \u001b[0mX\u001b[0m \u001b[0;34m=\u001b[0m \u001b[0mcheck_array\u001b[0m\u001b[0;34m(\u001b[0m\u001b[0mX\u001b[0m\u001b[0;34m,\u001b[0m \u001b[0maccept_sparse\u001b[0m\u001b[0;34m=\u001b[0m\u001b[0;34m\"csc\"\u001b[0m\u001b[0;34m,\u001b[0m \u001b[0mdtype\u001b[0m\u001b[0;34m=\u001b[0m\u001b[0mDTYPE\u001b[0m\u001b[0;34m)\u001b[0m\u001b[0;34m\u001b[0m\u001b[0m\n\u001b[0m\u001b[1;32m    251\u001b[0m         \u001b[0my\u001b[0m \u001b[0;34m=\u001b[0m \u001b[0mcheck_array\u001b[0m\u001b[0;34m(\u001b[0m\u001b[0my\u001b[0m\u001b[0;34m,\u001b[0m \u001b[0maccept_sparse\u001b[0m\u001b[0;34m=\u001b[0m\u001b[0;34m'csc'\u001b[0m\u001b[0;34m,\u001b[0m \u001b[0mensure_2d\u001b[0m\u001b[0;34m=\u001b[0m\u001b[0;32mFalse\u001b[0m\u001b[0;34m,\u001b[0m \u001b[0mdtype\u001b[0m\u001b[0;34m=\u001b[0m\u001b[0;32mNone\u001b[0m\u001b[0;34m)\u001b[0m\u001b[0;34m\u001b[0m\u001b[0m\n\u001b[1;32m    252\u001b[0m         \u001b[0;32mif\u001b[0m \u001b[0msample_weight\u001b[0m \u001b[0;32mis\u001b[0m \u001b[0;32mnot\u001b[0m \u001b[0;32mNone\u001b[0m\u001b[0;34m:\u001b[0m\u001b[0;34m\u001b[0m\u001b[0m\n",
      "\u001b[0;32m~/.virtualenvs/supelec/lib/python3.6/site-packages/sklearn/utils/validation.py\u001b[0m in \u001b[0;36mcheck_array\u001b[0;34m(array, accept_sparse, accept_large_sparse, dtype, order, copy, force_all_finite, ensure_2d, allow_nd, ensure_min_samples, ensure_min_features, warn_on_dtype, estimator)\u001b[0m\n\u001b[1;32m    571\u001b[0m         \u001b[0;32mif\u001b[0m \u001b[0mforce_all_finite\u001b[0m\u001b[0;34m:\u001b[0m\u001b[0;34m\u001b[0m\u001b[0m\n\u001b[1;32m    572\u001b[0m             _assert_all_finite(array,\n\u001b[0;32m--> 573\u001b[0;31m                                allow_nan=force_all_finite == 'allow-nan')\n\u001b[0m\u001b[1;32m    574\u001b[0m \u001b[0;34m\u001b[0m\u001b[0m\n\u001b[1;32m    575\u001b[0m     \u001b[0mshape_repr\u001b[0m \u001b[0;34m=\u001b[0m \u001b[0m_shape_repr\u001b[0m\u001b[0;34m(\u001b[0m\u001b[0marray\u001b[0m\u001b[0;34m.\u001b[0m\u001b[0mshape\u001b[0m\u001b[0;34m)\u001b[0m\u001b[0;34m\u001b[0m\u001b[0m\n",
      "\u001b[0;32m~/.virtualenvs/supelec/lib/python3.6/site-packages/sklearn/utils/validation.py\u001b[0m in \u001b[0;36m_assert_all_finite\u001b[0;34m(X, allow_nan)\u001b[0m\n\u001b[1;32m     54\u001b[0m                 not allow_nan and not np.isfinite(X).all()):\n\u001b[1;32m     55\u001b[0m             \u001b[0mtype_err\u001b[0m \u001b[0;34m=\u001b[0m \u001b[0;34m'infinity'\u001b[0m \u001b[0;32mif\u001b[0m \u001b[0mallow_nan\u001b[0m \u001b[0;32melse\u001b[0m \u001b[0;34m'NaN, infinity'\u001b[0m\u001b[0;34m\u001b[0m\u001b[0m\n\u001b[0;32m---> 56\u001b[0;31m             \u001b[0;32mraise\u001b[0m \u001b[0mValueError\u001b[0m\u001b[0;34m(\u001b[0m\u001b[0mmsg_err\u001b[0m\u001b[0;34m.\u001b[0m\u001b[0mformat\u001b[0m\u001b[0;34m(\u001b[0m\u001b[0mtype_err\u001b[0m\u001b[0;34m,\u001b[0m \u001b[0mX\u001b[0m\u001b[0;34m.\u001b[0m\u001b[0mdtype\u001b[0m\u001b[0;34m)\u001b[0m\u001b[0;34m)\u001b[0m\u001b[0;34m\u001b[0m\u001b[0m\n\u001b[0m\u001b[1;32m     57\u001b[0m \u001b[0;34m\u001b[0m\u001b[0m\n\u001b[1;32m     58\u001b[0m \u001b[0;34m\u001b[0m\u001b[0m\n",
      "\u001b[0;31mValueError\u001b[0m: Input contains NaN, infinity or a value too large for dtype('float32')."
     ]
    }
   ],
   "source": [
    "rf2.fit(train[selected_columns], train.category)"
   ]
  },
  {
   "cell_type": "code",
   "execution_count": 60,
   "metadata": {},
   "outputs": [],
   "source": [
    "date = datetime.now().isoformat().split(\".\")[0]\n",
    "prediction_name = 'rf_bd_tunned{date}.csv'.format(date=date)\n",
    "prediction_dir = '../submissions'\n",
    "y_pred = rf2.predict(x_test)\n",
    "y_pred = pd.Series(data=y_pred).rename('category').rename_axis('id', axis='index')\n",
    "y_pred.to_csv(os.path.join(prediction_dir, prediction_name), header=True)"
   ]
  },
  {
   "cell_type": "markdown",
   "metadata": {},
   "source": [
    "###### Perfom 0.96783 on the leaderboard"
   ]
  },
  {
   "cell_type": "code",
   "execution_count": null,
   "metadata": {},
   "outputs": [],
   "source": []
  }
 ],
 "metadata": {
  "kernelspec": {
   "display_name": "supelec",
   "language": "python",
   "name": "supelec"
  },
  "language_info": {
   "codemirror_mode": {
    "name": "ipython",
    "version": 3
   },
   "file_extension": ".py",
   "mimetype": "text/x-python",
   "name": "python",
   "nbconvert_exporter": "python",
   "pygments_lexer": "ipython3",
   "version": "3.6.5"
  }
 },
 "nbformat": 4,
 "nbformat_minor": 2
}
