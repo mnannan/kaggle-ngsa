{
 "cells": [
  {
   "cell_type": "code",
   "execution_count": 1,
   "metadata": {},
   "outputs": [],
   "source": [
    "import sys\n",
    "sys.path.append('/Users/mnannan/dev/supelec/ngsa/assignments/Assignement 2 ')"
   ]
  },
  {
   "cell_type": "code",
   "execution_count": 2,
   "metadata": {},
   "outputs": [],
   "source": [
    "from main import pipeline\n",
    "from core.io.loader import *\n",
    "from features.collaboration import *\n",
    "from features.papers_graph import *\n",
    "from features.authors import *"
   ]
  },
  {
   "cell_type": "code",
   "execution_count": 12,
   "metadata": {},
   "outputs": [],
   "source": [
    "from features.title import *"
   ]
  },
  {
   "cell_type": "code",
   "execution_count": 36,
   "metadata": {},
   "outputs": [],
   "source": [
    "from sklearn.metrics.pairwise import cosine_similarity"
   ]
  },
  {
   "cell_type": "code",
   "execution_count": 4,
   "metadata": {},
   "outputs": [],
   "source": [
    "from sklearn.feature_extraction.text import TfidfVectorizer"
   ]
  },
  {
   "cell_type": "code",
   "execution_count": 5,
   "metadata": {},
   "outputs": [],
   "source": [
    "import time"
   ]
  },
  {
   "cell_type": "code",
   "execution_count": 61,
   "metadata": {},
   "outputs": [],
   "source": [
    "vectorizer = TfidfVectorizer(analyzer='word', min_df=0, stop_words=\"english\", ngram_range=(1, 3))"
   ]
  },
  {
   "cell_type": "code",
   "execution_count": 7,
   "metadata": {},
   "outputs": [],
   "source": [
    "train = get_data_with_node_information('train', data_dir='../data')"
   ]
  },
  {
   "cell_type": "code",
   "execution_count": 8,
   "metadata": {},
   "outputs": [],
   "source": [
    "papers = train[['source_id', 'source_title', 'source_abstract', 'source_journal']]\\\n",
    ".drop_duplicates('source_id').reset_index(drop=True)"
   ]
  },
  {
   "cell_type": "code",
   "execution_count": 9,
   "metadata": {},
   "outputs": [],
   "source": [
    "paper_id_mapping = {source_id: index for index, source_id in list(papers.source_id.items())}"
   ]
  },
  {
   "cell_type": "code",
   "execution_count": 10,
   "metadata": {},
   "outputs": [],
   "source": [
    "title_tfidf = vectorizer.fit_transform(papers.source_title.values)"
   ]
  },
  {
   "cell_type": "code",
   "execution_count": 11,
   "metadata": {},
   "outputs": [
    {
     "data": {
      "text/plain": [
       "(27770, 6174)"
      ]
     },
     "execution_count": 11,
     "metadata": {},
     "output_type": "execute_result"
    }
   ],
   "source": [
    "title_tfidf.shape"
   ]
  },
  {
   "cell_type": "code",
   "execution_count": 55,
   "metadata": {},
   "outputs": [],
   "source": [
    "source_ids = train.source_id.apply(lambda x: paper_id_mapping[x])"
   ]
  },
  {
   "cell_type": "code",
   "execution_count": 56,
   "metadata": {},
   "outputs": [],
   "source": [
    "target_ids = train.target_id.apply(lambda x: paper_id_mapping[x])"
   ]
  },
  {
   "cell_type": "code",
   "execution_count": 37,
   "metadata": {
    "scrolled": true
   },
   "outputs": [
    {
     "name": "stdout",
     "output_type": "stream",
     "text": [
      "6.415889263153076\n"
     ]
    }
   ],
   "source": [
    "title_cosimilarity_matrix = cosine_similarity(title_tfidf, title_tfidf)"
   ]
  },
  {
   "cell_type": "code",
   "execution_count": 59,
   "metadata": {},
   "outputs": [],
   "source": [
    "train['title_cosimilarity'] = title_cosimilarity_matrix[source_ids, target_ids]"
   ]
  },
  {
   "cell_type": "code",
   "execution_count": 38,
   "metadata": {},
   "outputs": [],
   "source": [
    "abstract_tfidf = vectorizer.fit_transform(papers.source_abstract.values)"
   ]
  },
  {
   "cell_type": "code",
   "execution_count": 39,
   "metadata": {},
   "outputs": [
    {
     "name": "stdout",
     "output_type": "stream",
     "text": [
      "51.42162895202637\n"
     ]
    }
   ],
   "source": [
    "abstract_cosimilarity_matrix = cosine_similarity(abstract_tfidf, abstract_tfidf)"
   ]
  },
  {
   "cell_type": "code",
   "execution_count": 63,
   "metadata": {},
   "outputs": [],
   "source": [
    "train['abstract_cosimilarity'] = abstract_cosimilarity_matrix[source_ids, target_ids]"
   ]
  },
  {
   "cell_type": "code",
   "execution_count": 65,
   "metadata": {},
   "outputs": [],
   "source": [
    "journal_vectorizer = TfidfVectorizer(analyzer='word',\n",
    "                                     min_df=0,\n",
    "                                     stop_words=\"english\",\n",
    "                                     tokenizer = lambda x: x.split('.'),\n",
    "                                     ngram_range=(1, 3))"
   ]
  },
  {
   "cell_type": "code",
   "execution_count": 67,
   "metadata": {},
   "outputs": [],
   "source": [
    "journal_tfidf = journal_vectorizer.fit_transform(papers.source_journal.fillna('').values)"
   ]
  },
  {
   "cell_type": "code",
   "execution_count": 69,
   "metadata": {},
   "outputs": [],
   "source": [
    "journal_cosimilarity_matrix = cosine_similarity(journal_tfidf, journal_tfidf)"
   ]
  },
  {
   "cell_type": "code",
   "execution_count": 70,
   "metadata": {},
   "outputs": [],
   "source": [
    "train['journal_cosimilarity'] = journal_cosimilarity_matrix[source_ids, target_ids]"
   ]
  },
  {
   "cell_type": "code",
   "execution_count": 71,
   "metadata": {},
   "outputs": [
    {
     "data": {
      "text/plain": [
       "0         1.000000\n",
       "1         0.185324\n",
       "2         0.008018\n",
       "3         0.000000\n",
       "4         0.188988\n",
       "5         0.102973\n",
       "6         0.126094\n",
       "7         0.102973\n",
       "8         0.169718\n",
       "9         0.094302\n",
       "10        0.188988\n",
       "11        1.000000\n",
       "12        0.000000\n",
       "13        0.000000\n",
       "14        0.185324\n",
       "15        0.094302\n",
       "16        0.000000\n",
       "17        0.000000\n",
       "18        0.041666\n",
       "19        0.026454\n",
       "20        0.000000\n",
       "21        0.000000\n",
       "22        0.000000\n",
       "23        0.000000\n",
       "24        0.500546\n",
       "25        0.000000\n",
       "26        0.188988\n",
       "27        0.000000\n",
       "28        0.100673\n",
       "29        0.000000\n",
       "            ...   \n",
       "615482    0.169718\n",
       "615483    1.000000\n",
       "615484    1.000000\n",
       "615485    0.123263\n",
       "615486    0.000000\n",
       "615487    0.102973\n",
       "615488    1.000000\n",
       "615489    0.188988\n",
       "615490    0.185324\n",
       "615491    0.037338\n",
       "615492    0.092474\n",
       "615493    0.085946\n",
       "615494    1.000000\n",
       "615495    0.185324\n",
       "615496    0.185324\n",
       "615497    0.000000\n",
       "615498    1.000000\n",
       "615499    0.067162\n",
       "615500    0.185324\n",
       "615501    0.051824\n",
       "615502    0.000000\n",
       "615503    0.000000\n",
       "615504    0.054853\n",
       "615505    0.094302\n",
       "615506    0.185324\n",
       "615507    0.185324\n",
       "615508    0.169718\n",
       "615509    0.000000\n",
       "615510    1.000000\n",
       "615511    0.188988\n",
       "Name: journal_cosimilarity, Length: 615512, dtype: float64"
      ]
     },
     "execution_count": 71,
     "metadata": {},
     "output_type": "execute_result"
    }
   ],
   "source": [
    "train.journal_cosimilarity"
   ]
  },
  {
   "cell_type": "code",
   "execution_count": null,
   "metadata": {},
   "outputs": [],
   "source": []
  }
 ],
 "metadata": {
  "kernelspec": {
   "display_name": "supelec",
   "language": "python",
   "name": "supelec"
  },
  "language_info": {
   "codemirror_mode": {
    "name": "ipython",
    "version": 3
   },
   "file_extension": ".py",
   "mimetype": "text/x-python",
   "name": "python",
   "nbconvert_exporter": "python",
   "pygments_lexer": "ipython3",
   "version": "3.6.5"
  }
 },
 "nbformat": 4,
 "nbformat_minor": 2
}
