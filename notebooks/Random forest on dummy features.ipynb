{
 "cells": [
  {
   "cell_type": "code",
   "execution_count": 1,
   "metadata": {},
   "outputs": [],
   "source": [
    "seed = 123"
   ]
  },
  {
   "cell_type": "code",
   "execution_count": 2,
   "metadata": {},
   "outputs": [],
   "source": [
    "import os\n",
    "import pandas as pd\n",
    "import numpy as np\n",
    "import re \n",
    "import seaborn as sns\n",
    "sns.set()\n",
    "\n",
    "import matplotlib.pyplot as plt\n",
    "%matplotlib inline\n",
    "import nltk\n",
    "from nltk.corpus import stopwords\n",
    "from nltk.stem import PorterStemmer\n",
    "\n",
    "def load_data(dataset, DATA_DIR='./data/'):\n",
    "    read_args = {\n",
    "        'node_information':{\n",
    "            'names': ['id', 'publication_date', 'title', 'authors', 'journal', 'abstract'],\n",
    "            'index_col': 'id'\n",
    "        },\n",
    "        'train': {\n",
    "            'names': ['source_id', 'target_id','category'],\n",
    "            'sep': ' ',\n",
    "        },\n",
    "        'test':{\n",
    "            'names':['source_id', 'target_id'],\n",
    "            'sep': ' ',\n",
    "        }\n",
    "    }\n",
    "    filenames = {\n",
    "        'node_information': 'node_information.csv',\n",
    "        'train': 'training_set.txt',\n",
    "        'test': 'testing_set.txt'\n",
    "    }\n",
    "    if dataset in read_args:\n",
    "        file_path = os.path.join(DATA_DIR, filenames[dataset])\n",
    "        return pd.read_csv(file_path, header=None, **read_args[dataset])"
   ]
  },
  {
   "cell_type": "code",
   "execution_count": 161,
   "metadata": {},
   "outputs": [],
   "source": [
    "DATA_DIR='../data/'"
   ]
  },
  {
   "cell_type": "code",
   "execution_count": 11,
   "metadata": {},
   "outputs": [],
   "source": [
    "def merge_node_information(dataset, node_information):\n",
    "    for column in node_information.columns:\n",
    "        for origin in ['source', 'target']:\n",
    "            serie = node_information[column].rename(f'{origin}_{column}').to_frame()\n",
    "            dataset = dataset.merge(serie, left_on=f'{origin}_id', right_index=True)\n",
    "    return dataset"
   ]
  },
  {
   "cell_type": "code",
   "execution_count": 12,
   "metadata": {},
   "outputs": [],
   "source": [
    "train = load_data('train')\n",
    "node_information = load_data('node_information')\n",
    "train = merge_node_information(train, node_information)"
   ]
  },
  {
   "cell_type": "code",
   "execution_count": 7,
   "metadata": {},
   "outputs": [
    {
     "data": {
      "text/plain": [
       "'he ha'"
      ]
     },
     "execution_count": 7,
     "metadata": {},
     "output_type": "execute_result"
    }
   ],
   "source": [
    "stem.stem('he has')"
   ]
  },
  {
   "cell_type": "code",
   "execution_count": 31,
   "metadata": {},
   "outputs": [],
   "source": [
    "stem = PorterStemmer()\n",
    "english_stopwords = set(stopwords.words('english'))\n",
    "def clean_string(string):\n",
    "    string = stem.stem(string)\n",
    "    words = []\n",
    "    for word in string.split():\n",
    "        if word not in english_stopwords:\n",
    "            words.append(word)\n",
    "    return ' '.join(words)"
   ]
  },
  {
   "cell_type": "code",
   "execution_count": 23,
   "metadata": {},
   "outputs": [],
   "source": [
    "english_stopwords = set(stopwords.words('english'))\n",
    "stem = PorterStemmer()\n",
    "\n",
    "def tokenize(string):\n",
    "    string = stem.stem(string)\n",
    "    words = []\n",
    "    for word in string.split():\n",
    "        if word not in english_stopwords:\n",
    "            words.append(word)\n",
    "    return words\n",
    "\n",
    "string = 'an infinite number of potentials surrounding 2d black hole'\n",
    "tokenize(string)\n",
    "\n",
    "def overlap(string1, string2):\n",
    "    return len(set(string1.split()).intersection(set(string1.split())))"
   ]
  },
  {
   "cell_type": "code",
   "execution_count": 11,
   "metadata": {},
   "outputs": [],
   "source": [
    "def extract_authors(authors):\n",
    "    stopwords = ['alex', 't', 'latex', 'pages', 'jr', 's']\n",
    "    if isinstance(authors, str):\n",
    "        \n",
    "        # Remove string between parenthesis\n",
    "        string = re.sub(r'\\([^\\)]+[\\)$]','',authors)\n",
    "        # Remove bad parenthesis\n",
    "        string = re.sub(r'\\([^\\)]*$','', string)\n",
    "        # Remove multiple spaces\n",
    "        string = re.sub(r'\\s', '', string)\n",
    "        # Extract authors and sanityze strings\n",
    "        \n",
    "        authors = []\n",
    "        for author in string.split(','):\n",
    "            author = author.lower()\n",
    "            author = re.sub(r'[\\W\\d]','', author).lower()\n",
    "            if len(author) >= 2 and not author in stopwords:\n",
    "                authors.append(author)\n",
    "        return authors\n",
    "\n",
    "def common_authors(authors1, authors2):\n",
    "    if isinstance(authors1, str) and isinstance(authors2, str):\n",
    "        return len(set(extract_authors(authors1)).intersection(set(extract_authors(authors2))))\n",
    "    "
   ]
  },
  {
   "cell_type": "code",
   "execution_count": 128,
   "metadata": {},
   "outputs": [],
   "source": [
    "def extract_features(dataset):\n",
    "    train['source_title'] = dataset.source_title.apply(lambda x : clean_string(x))\n",
    "    train['target_title'] = dataset.source_title.apply(lambda x : clean_string(x))\n",
    "    dataset['title_overlap'] = dataset.apply(lambda x : len(set(x.source_title.split()).intersection(set(x.target_title.split()))), axis='columns')\n",
    "\n",
    "    dataset['common_authors'] = dataset.apply(lambda x: common_authors(x.source_authors, x.target_authors), axis='columns')\n",
    "    dataset['publication_date_diff'] = dataset.source_publication_date - dataset.target_publication_date\n",
    "    \n",
    "    selected_columns = ['title_overlap', 'common_authors', 'publication_date_diff']\n",
    "    x = dataset[selected_columns].fillna(0).values\n",
    "    return x"
   ]
  },
  {
   "cell_type": "code",
   "execution_count": 43,
   "metadata": {},
   "outputs": [
    {
     "name": "stdout",
     "output_type": "stream",
     "text": [
      "False    615512\n",
      "Name: title_overlap, dtype: int64\n",
      "False    453316\n",
      "True     162196\n",
      "Name: common_authors, dtype: int64\n",
      "False    615512\n",
      "Name: publication_date_diff, dtype: int64\n"
     ]
    }
   ],
   "source": [
    "for column in selected_columns:\n",
    "    print(train[column].isna().value_counts())"
   ]
  },
  {
   "cell_type": "code",
   "execution_count": 130,
   "metadata": {},
   "outputs": [],
   "source": [
    "x = extract_features(train)"
   ]
  },
  {
   "cell_type": "code",
   "execution_count": 131,
   "metadata": {},
   "outputs": [],
   "source": [
    "y = train.category.values"
   ]
  },
  {
   "cell_type": "code",
   "execution_count": 132,
   "metadata": {},
   "outputs": [],
   "source": [
    "from sklearn.ensemble import RandomForestClassifier\n",
    "\n",
    "from sklearn.metrics import f1_score, accuracy_score"
   ]
  },
  {
   "cell_type": "code",
   "execution_count": 133,
   "metadata": {},
   "outputs": [],
   "source": [
    "y_pred = np.zeros(y.shape)"
   ]
  },
  {
   "cell_type": "code",
   "execution_count": 158,
   "metadata": {},
   "outputs": [
    {
     "name": "stdout",
     "output_type": "stream",
     "text": [
      "Epoch 1\n",
      "f1: 0.8101044024238885\n",
      "accuracy :0.8101044024238885\n",
      "Epoch 2\n",
      "f1: 0.8117340938313131\n",
      "accuracy :0.8117340938313131\n",
      "Epoch 3\n",
      "f1: 0.8108351814393293\n",
      "accuracy :0.8108351814393293\n",
      "Epoch 4\n",
      "f1: 0.8119430241051863\n",
      "accuracy :0.8119430241051863\n",
      "Epoch 5\n",
      "f1: 0.8124730372647787\n",
      "accuracy :0.8124730372647787\n"
     ]
    }
   ],
   "source": [
    "f1_list = []\n",
    "accuracy_list = []\n",
    "\n",
    "from sklearn.model_selection import KFold\n",
    "kf = KFold(n_splits=5, random_state=seed, shuffle=True)\n",
    "\n",
    "i = 1\n",
    "for train_index, test_index in kf.split(x):\n",
    "\n",
    "    X_train, X_test = x[train_index], x[test_index]\n",
    "    y_train, y_test = y[train_index], y[test_index]\n",
    "    \n",
    "    random_forest = RandomForestClassifier(n_estimators=100, max_depth=3, random_state=seed)\n",
    "    random_forest.fit(X_train, y_train)\n",
    "    \n",
    "    y_pred[test_index] = random_forest.predict(X_test)\n",
    "    \n",
    "    f1_list.append(f1_score(y_test, y_pred[test_index]))\n",
    "    accuracy_list.append(accuracy_score(y_test, y_pred[test_index]))\n",
    "    print(f'Epoch {i}')\n",
    "    print(f'f1: {f1_list[i-1]}')\n",
    "    print(f'accuracy :{f1_list[i-1]}')\n",
    "    i+=1"
   ]
  },
  {
   "cell_type": "code",
   "execution_count": 135,
   "metadata": {},
   "outputs": [
    {
     "name": "stdout",
     "output_type": "stream",
     "text": [
      "Mean f1 0.8114179478128992\n",
      "Mean accuracy 0.7483200996124862\n"
     ]
    }
   ],
   "source": [
    "print(f'Mean f1 {np.mean(f1_list)}')\n",
    "print(f'Mean accuracy {np.mean(accuracy_list)}')\n"
   ]
  },
  {
   "cell_type": "code",
   "execution_count": 136,
   "metadata": {},
   "outputs": [
    {
     "data": {
      "text/plain": [
       "RandomForestClassifier(bootstrap=True, class_weight=None, criterion='gini',\n",
       "            max_depth=3, max_features='auto', max_leaf_nodes=None,\n",
       "            min_impurity_decrease=0.0, min_impurity_split=None,\n",
       "            min_samples_leaf=1, min_samples_split=2,\n",
       "            min_weight_fraction_leaf=0.0, n_estimators=100, n_jobs=None,\n",
       "            oob_score=False, random_state=123, verbose=0, warm_start=False)"
      ]
     },
     "execution_count": 136,
     "metadata": {},
     "output_type": "execute_result"
    }
   ],
   "source": [
    "random_forest = RandomForestClassifier(n_estimators=100, max_depth=3, random_state=seed)\n",
    "random_forest.fit(x, y)"
   ]
  },
  {
   "cell_type": "code",
   "execution_count": null,
   "metadata": {},
   "outputs": [],
   "source": [
    "test = load_data('test')"
   ]
  },
  {
   "cell_type": "code",
   "execution_count": 140,
   "metadata": {},
   "outputs": [],
   "source": [
    "test = merge_node_information(test, node_information)"
   ]
  },
  {
   "cell_type": "code",
   "execution_count": 141,
   "metadata": {},
   "outputs": [],
   "source": [
    "x_submisson = extract_features(test)"
   ]
  },
  {
   "cell_type": "code",
   "execution_count": 164,
   "metadata": {
    "scrolled": true
   },
   "outputs": [],
   "source": [
    "y_submission = random_forest.predict(x_submisson)"
   ]
  },
  {
   "cell_type": "code",
   "execution_count": 150,
   "metadata": {},
   "outputs": [],
   "source": [
    "y_submission = pd.Series(data=y_submission)"
   ]
  },
  {
   "cell_type": "code",
   "execution_count": 152,
   "metadata": {},
   "outputs": [],
   "source": [
    "y_submission = y_submission.rename('category')\n",
    "\n",
    "y_submission = y_submission.rename_axis('id', axis='index')\n",
    "\n",
    "y_submission.to_csv(os.path.join(DATA_DIR,'test_submission_random_forest.csv'), header=True)"
   ]
  },
  {
   "cell_type": "code",
   "execution_count": 168,
   "metadata": {},
   "outputs": [],
   "source": [
    "#zgenerate_submission(y_submission, 'random_forest_dummy_features.csv')"
   ]
  },
  {
   "cell_type": "markdown",
   "metadata": {},
   "source": [
    "0.72041 sur le leadboard vs 0.8114179478128992 with cross validation"
   ]
  },
  {
   "cell_type": "code",
   "execution_count": null,
   "metadata": {},
   "outputs": [],
   "source": []
  }
 ],
 "metadata": {
  "kernelspec": {
   "display_name": "supelec",
   "language": "python",
   "name": "supelec"
  },
  "language_info": {
   "codemirror_mode": {
    "name": "ipython",
    "version": 3
   },
   "file_extension": ".py",
   "mimetype": "text/x-python",
   "name": "python",
   "nbconvert_exporter": "python",
   "pygments_lexer": "ipython3",
   "version": "3.6.5"
  }
 },
 "nbformat": 4,
 "nbformat_minor": 2
}
