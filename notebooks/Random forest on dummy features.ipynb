{
 "cells": [
  {
   "cell_type": "code",
   "execution_count": 2,
   "metadata": {},
   "outputs": [],
   "source": [
    "seed = 123"
   ]
  },
  {
   "cell_type": "code",
   "execution_count": 8,
   "metadata": {},
   "outputs": [],
   "source": [
    "import sys\n",
    "sys.path.append('/Users/mnannan/dev/supelec/ngsa/assignments/Assignement 2 ')"
   ]
  },
  {
   "cell_type": "code",
   "execution_count": 3,
   "metadata": {},
   "outputs": [],
   "source": [
    "import os\n",
    "import pandas as pd\n",
    "import numpy as np\n",
    "import re \n",
    "import seaborn as sns\n",
    "sns.set()\n",
    "\n",
    "import matplotlib.pyplot as plt\n",
    "%matplotlib inline\n",
    "import nltk\n",
    "from nltk.corpus import stopwords\n",
    "from nltk.stem import PorterStemmer\n"
   ]
  },
  {
   "cell_type": "code",
   "execution_count": 9,
   "metadata": {},
   "outputs": [],
   "source": [
    "from core.io.loader import *"
   ]
  },
  {
   "cell_type": "code",
   "execution_count": 10,
   "metadata": {},
   "outputs": [],
   "source": [
    "DATA_DIR='../data/'"
   ]
  },
  {
   "cell_type": "code",
   "execution_count": 13,
   "metadata": {},
   "outputs": [],
   "source": [
    "train = get_data_with_node_information('train', DATA_DIR)"
   ]
  },
  {
   "cell_type": "code",
   "execution_count": 14,
   "metadata": {},
   "outputs": [],
   "source": [
    "stem = PorterStemmer()\n",
    "english_stopwords = set(stopwords.words('english'))\n",
    "def clean_string(string):\n",
    "    string = stem.stem(string)\n",
    "    words = []\n",
    "    for word in string.split():\n",
    "        if word not in english_stopwords:\n",
    "            words.append(word)\n",
    "    return ' '.join(words)"
   ]
  },
  {
   "cell_type": "code",
   "execution_count": 15,
   "metadata": {},
   "outputs": [],
   "source": [
    "english_stopwords = set(stopwords.words('english'))\n",
    "stem = PorterStemmer()\n",
    "\n",
    "def tokenize(string):\n",
    "    string = stem.stem(string)\n",
    "    words = []\n",
    "    for word in string.split():\n",
    "        if word not in english_stopwords:\n",
    "            words.append(word)\n",
    "    return words\n",
    "\n",
    "string = 'an infinite number of potentials surrounding 2d black hole'\n",
    "tokenize(string)\n",
    "\n",
    "def overlap(string1, string2):\n",
    "    return len(set(string1.split()).intersection(set(string1.split())))"
   ]
  },
  {
   "cell_type": "code",
   "execution_count": 16,
   "metadata": {},
   "outputs": [],
   "source": [
    "def extract_authors(authors):\n",
    "    stopwords = ['alex', 't', 'latex', 'pages', 'jr', 's']\n",
    "    if isinstance(authors, str):\n",
    "        \n",
    "        # Remove string between parenthesis\n",
    "        string = re.sub(r'\\([^\\)]+[\\)$]','',authors)\n",
    "        # Remove bad parenthesis\n",
    "        string = re.sub(r'\\([^\\)]*$','', string)\n",
    "        # Remove multiple spaces\n",
    "        string = re.sub(r'\\s', '', string)\n",
    "        # Extract authors and sanityze strings\n",
    "        \n",
    "        authors = []\n",
    "        for author in string.split(','):\n",
    "            author = author.lower()\n",
    "            author = re.sub(r'[\\W\\d]','', author).lower()\n",
    "            if len(author) >= 2 and not author in stopwords:\n",
    "                authors.append(author)\n",
    "        return authors\n",
    "\n",
    "def common_authors(authors1, authors2):\n",
    "    if isinstance(authors1, str) and isinstance(authors2, str):\n",
    "        return len(set(extract_authors(authors1)).intersection(set(extract_authors(authors2))))\n",
    "    "
   ]
  },
  {
   "cell_type": "code",
   "execution_count": 17,
   "metadata": {},
   "outputs": [],
   "source": [
    "def extract_features(dataset):\n",
    "    train['source_title'] = dataset.source_title.apply(lambda x : clean_string(x))\n",
    "    train['target_title'] = dataset.source_title.apply(lambda x : clean_string(x))\n",
    "    dataset['title_overlap'] = dataset.apply(lambda x : len(set(x.source_title.split()).intersection(set(x.target_title.split()))), axis='columns')\n",
    "\n",
    "    dataset['common_authors'] = dataset.apply(lambda x: common_authors(x.source_authors, x.target_authors), axis='columns')\n",
    "    dataset['publication_date_diff'] = dataset.source_publication_date - dataset.target_publication_date\n",
    "    \n",
    "    selected_columns = ['title_overlap', 'common_authors', 'publication_date_diff']\n",
    "    x = dataset[selected_columns].fillna(0).values\n",
    "    return x"
   ]
  },
  {
   "cell_type": "code",
   "execution_count": 19,
   "metadata": {},
   "outputs": [],
   "source": [
    "x = extract_features(train)"
   ]
  },
  {
   "cell_type": "code",
   "execution_count": 131,
   "metadata": {},
   "outputs": [],
   "source": [
    "y = train.category.values"
   ]
  },
  {
   "cell_type": "code",
   "execution_count": 132,
   "metadata": {},
   "outputs": [],
   "source": [
    "from sklearn.ensemble import RandomForestClassifier\n",
    "\n",
    "from sklearn.metrics import f1_score, accuracy_score"
   ]
  },
  {
   "cell_type": "code",
   "execution_count": 1,
   "metadata": {},
   "outputs": [],
   "source": [
    "from sklearn.ensemble import RandomForestClassifier\n"
   ]
  },
  {
   "cell_type": "code",
   "execution_count": null,
   "metadata": {},
   "outputs": [],
   "source": [
    "RandomForestClassifier.d"
   ]
  },
  {
   "cell_type": "code",
   "execution_count": 133,
   "metadata": {},
   "outputs": [],
   "source": [
    "y_pred = np.zeros(y.shape)"
   ]
  },
  {
   "cell_type": "code",
   "execution_count": 158,
   "metadata": {},
   "outputs": [
    {
     "name": "stdout",
     "output_type": "stream",
     "text": [
      "Epoch 1\n",
      "f1: 0.8101044024238885\n",
      "accuracy :0.8101044024238885\n",
      "Epoch 2\n",
      "f1: 0.8117340938313131\n",
      "accuracy :0.8117340938313131\n",
      "Epoch 3\n",
      "f1: 0.8108351814393293\n",
      "accuracy :0.8108351814393293\n",
      "Epoch 4\n",
      "f1: 0.8119430241051863\n",
      "accuracy :0.8119430241051863\n",
      "Epoch 5\n",
      "f1: 0.8124730372647787\n",
      "accuracy :0.8124730372647787\n"
     ]
    }
   ],
   "source": [
    "f1_list = []\n",
    "accuracy_list = []\n",
    "\n",
    "from sklearn.model_selection import KFold\n",
    "kf = KFold(n_splits=5, random_state=seed, shuffle=True)\n",
    "\n",
    "i = 1\n",
    "for train_index, test_index in kf.split(x):\n",
    "\n",
    "    X_train, X_test = x[train_index], x[test_index]\n",
    "    y_train, y_test = y[train_index], y[test_index]\n",
    "    \n",
    "    random_forest = RandomForestClassifier(n_estimators=100, max_depth=3, random_state=seed)\n",
    "    random_forest.fit(X_train, y_train)\n",
    "    \n",
    "    y_pred[test_index] = random_forest.predict(X_test)\n",
    "    \n",
    "    f1_list.append(f1_score(y_test, y_pred[test_index]))\n",
    "    accuracy_list.append(accuracy_score(y_test, y_pred[test_index]))\n",
    "    print(f'Epoch {i}')\n",
    "    print(f'f1: {f1_list[i-1]}')\n",
    "    print(f'accuracy :{f1_list[i-1]}')\n",
    "    i+=1"
   ]
  },
  {
   "cell_type": "code",
   "execution_count": 135,
   "metadata": {},
   "outputs": [
    {
     "name": "stdout",
     "output_type": "stream",
     "text": [
      "Mean f1 0.8114179478128992\n",
      "Mean accuracy 0.7483200996124862\n"
     ]
    }
   ],
   "source": [
    "print(f'Mean f1 {np.mean(f1_list)}')\n",
    "print(f'Mean accuracy {np.mean(accuracy_list)}')\n"
   ]
  },
  {
   "cell_type": "code",
   "execution_count": 136,
   "metadata": {},
   "outputs": [
    {
     "data": {
      "text/plain": [
       "RandomForestClassifier(bootstrap=True, class_weight=None, criterion='gini',\n",
       "            max_depth=3, max_features='auto', max_leaf_nodes=None,\n",
       "            min_impurity_decrease=0.0, min_impurity_split=None,\n",
       "            min_samples_leaf=1, min_samples_split=2,\n",
       "            min_weight_fraction_leaf=0.0, n_estimators=100, n_jobs=None,\n",
       "            oob_score=False, random_state=123, verbose=0, warm_start=False)"
      ]
     },
     "execution_count": 136,
     "metadata": {},
     "output_type": "execute_result"
    }
   ],
   "source": [
    "random_forest = RandomForestClassifier(n_estimators=100, max_depth=3, random_state=seed)\n",
    "random_forest.fit(x, y)"
   ]
  },
  {
   "cell_type": "code",
   "execution_count": null,
   "metadata": {},
   "outputs": [],
   "source": [
    "test = load_data('test')\n",
    "\n",
    "test = merge_node_information(test, node_information)\n",
    "\n",
    "x_submisson = extract_features(test)\n",
    "\n",
    "y_submission = random_forest.predict(x_submisson)\n",
    "\n",
    "y_submission = pd.Series(data=y_submission)\n",
    "\n",
    "y_submission = y_submission.rename('category')\n",
    "\n",
    "y_submission = y_submission.rename_axis('id', axis='index')\n",
    "\n",
    "y_submission.to_csv(os.path.join(DATA_DIR,'test_submission_random_forest.csv'), header=True)"
   ]
  },
  {
   "cell_type": "code",
   "execution_count": 168,
   "metadata": {},
   "outputs": [],
   "source": [
    "#zgenerate_submission(y_submission, 'random_forest_dummy_features.csv')"
   ]
  },
  {
   "cell_type": "markdown",
   "metadata": {},
   "source": [
    "0.72041 sur le leadboard vs 0.8114179478128992 with cross validation"
   ]
  },
  {
   "cell_type": "code",
   "execution_count": null,
   "metadata": {},
   "outputs": [],
   "source": []
  }
 ],
 "metadata": {
  "kernelspec": {
   "display_name": "supelec",
   "language": "python",
   "name": "supelec"
  },
  "language_info": {
   "codemirror_mode": {
    "name": "ipython",
    "version": 3
   },
   "file_extension": ".py",
   "mimetype": "text/x-python",
   "name": "python",
   "nbconvert_exporter": "python",
   "pygments_lexer": "ipython3",
   "version": "3.6.5"
  }
 },
 "nbformat": 4,
 "nbformat_minor": 2
}
