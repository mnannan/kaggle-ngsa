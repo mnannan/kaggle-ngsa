{
 "cells": [
  {
   "cell_type": "code",
   "execution_count": 1,
   "metadata": {},
   "outputs": [],
   "source": [
    "import sys\n",
    "sys.path.append('/Users/mnannan/dev/supelec/ngsa/assignments/Assignement 2 ')"
   ]
  },
  {
   "cell_type": "code",
   "execution_count": 2,
   "metadata": {},
   "outputs": [],
   "source": [
    "from main import pipeline\n",
    "from core.io.loader import *\n",
    "from features.features_extractor import FeaturesExtractor\n",
    "from features.processing import features_processing\n",
    "from models.cross_validation import *\n",
    "from plot.features_importances import plot_features_importances"
   ]
  },
  {
   "cell_type": "code",
   "execution_count": 22,
   "metadata": {},
   "outputs": [],
   "source": [
    "from datetime import datetime"
   ]
  },
  {
   "cell_type": "code",
   "execution_count": 3,
   "metadata": {},
   "outputs": [],
   "source": [
    "%matplotlib inline"
   ]
  },
  {
   "cell_type": "markdown",
   "metadata": {},
   "source": [
    "###### Load dataset and extract features"
   ]
  },
  {
   "cell_type": "code",
   "execution_count": 4,
   "metadata": {},
   "outputs": [],
   "source": [
    "train = get_data_with_node_information('train', data_dir='../data')\n",
    "test = get_data_with_node_information('test', data_dir='../data')\n",
    "features_extractor = FeaturesExtractor(pipeline)\n",
    "train = features_extractor.fit_transform(train)\n",
    "test = features_extractor.transform(test)"
   ]
  },
  {
   "cell_type": "markdown",
   "metadata": {},
   "source": [
    "###### Selecting features and preprocessing"
   ]
  },
  {
   "cell_type": "code",
   "execution_count": 10,
   "metadata": {},
   "outputs": [],
   "source": [
    "selected_columns = [\n",
    "    'title_overlap',\n",
    "    'publication_date_diff',\n",
    "    'common_authors',\n",
    "    'same_journal',\n",
    "    'authors_collaboration',\n",
    "    'collaboration_min_distance',\n",
    "    'collaboration_mean_distance',\n",
    "    'writer_in_target_paper',\n",
    "    'writer_collaborators',\n",
    "    'writer_collaboration_min_distance',\n",
    "    'writer_collaboration_mean_distance',\n",
    "    'common_neighbors',\n",
    "    'source_paper_citations',\n",
    "    'target_paper_citations',\n",
    "    'source_number_of_papers_cited',\n",
    "    'target_number_of_papers_cited',\n",
    "]"
   ]
  },
  {
   "cell_type": "code",
   "execution_count": 11,
   "metadata": {},
   "outputs": [],
   "source": [
    "x_train = features_processing(train[selected_columns]).values"
   ]
  },
  {
   "cell_type": "code",
   "execution_count": 12,
   "metadata": {},
   "outputs": [],
   "source": [
    "x_test = features_processing(test[selected_columns]).values"
   ]
  },
  {
   "cell_type": "code",
   "execution_count": 13,
   "metadata": {},
   "outputs": [],
   "source": [
    "y_train = train.category.values"
   ]
  },
  {
   "cell_type": "code",
   "execution_count": 14,
   "metadata": {},
   "outputs": [],
   "source": [
    "from sklearn.ensemble import RandomForestClassifier\n",
    "\n",
    "model_args = {\n",
    "    'n_estimators': 100,\n",
    "    'max_depth': 7,\n",
    "    'random_state': seed\n",
    "}"
   ]
  },
  {
   "cell_type": "code",
   "execution_count": 15,
   "metadata": {},
   "outputs": [
    {
     "name": "stdout",
     "output_type": "stream",
     "text": [
      "Epoch 1\n",
      "f1: 0.9687712254539416\n",
      "Epoch 2\n",
      "f1: 0.9688870707483921\n",
      "Epoch 3\n",
      "f1: 0.9681761992341786\n",
      "Epoch 4\n",
      "f1: 0.9695596001722614\n",
      "Epoch 5\n",
      "f1: 0.9689400636158269\n"
     ]
    }
   ],
   "source": [
    "y_pred, f1_list = cross_validation(RandomForestClassifier, model_args, x_train, y_train)"
   ]
  },
  {
   "cell_type": "code",
   "execution_count": 16,
   "metadata": {},
   "outputs": [],
   "source": [
    "model = RandomForestClassifier(**model_args)"
   ]
  },
  {
   "cell_type": "code",
   "execution_count": 17,
   "metadata": {},
   "outputs": [
    {
     "data": {
      "text/plain": [
       "RandomForestClassifier(bootstrap=True, class_weight=None, criterion='gini',\n",
       "            max_depth=7, max_features='auto', max_leaf_nodes=None,\n",
       "            min_impurity_decrease=0.0, min_impurity_split=None,\n",
       "            min_samples_leaf=1, min_samples_split=2,\n",
       "            min_weight_fraction_leaf=0.0, n_estimators=100, n_jobs=None,\n",
       "            oob_score=False, random_state=123, verbose=0, warm_start=False)"
      ]
     },
     "execution_count": 17,
     "metadata": {},
     "output_type": "execute_result"
    }
   ],
   "source": [
    "model.fit(x_train, y_train)\n"
   ]
  },
  {
   "cell_type": "code",
   "execution_count": 18,
   "metadata": {},
   "outputs": [],
   "source": [
    "y_pred = model.predict(x_test)"
   ]
  },
  {
   "cell_type": "code",
   "execution_count": 19,
   "metadata": {},
   "outputs": [
    {
     "name": "stdout",
     "output_type": "stream",
     "text": [
      "source_target_common_neighbors        0.564278\n",
      "target_paper_citations                0.146488\n",
      "publication_date_diff                 0.109798\n",
      "source_number_of_papers_cited         0.052337\n",
      "title_overlap                         0.043227\n",
      "collaboration_mean_distance           0.029609\n",
      "collaboration_min_distance            0.020485\n",
      "writer_collaboration_mean_distance    0.009463\n",
      "target_number_of_papers_cited         0.008017\n",
      "writer_collaboration_min_distance     0.006834\n",
      "common_authors                        0.004276\n",
      "authors_collaboration                 0.002450\n",
      "source_paper_citations                0.001425\n",
      "same_journal                          0.000534\n",
      "writer_collaborators                  0.000442\n",
      "writer_in_target_paper                0.000339\n",
      "dtype: float64\n"
     ]
    },
    {
     "data": {
      "image/png": "[encoded data removed]",
      "text/plain": [
       "<Figure size 432x288 with 1 Axes>"
      ]
     },
     "metadata": {
      "needs_background": "light"
     },
     "output_type": "display_data"
    }
   ],
   "source": [
    "plot_features_importance(model.feature_importances_, selected_columns)"
   ]
  },
  {
   "cell_type": "code",
   "execution_count": 20,
   "metadata": {},
   "outputs": [],
   "source": [
    "y_pred = pd.Series(data=y_pred).rename('category').rename_axis('id', axis='index')"
   ]
  },
  {
   "cell_type": "code",
   "execution_count": 24,
   "metadata": {},
   "outputs": [],
   "source": [
    "y_pred.to_csv(f'../submissions/rf_graph_features_{datetime.now().isoformat().split(\".\")[0]}.csv'\n",
    "              ,header=True)"
   ]
  },
  {
   "cell_type": "code",
   "execution_count": 25,
   "metadata": {},
   "outputs": [],
   "source": [
    "date = datetime.now().isoformat().split(\".\")[0]\n",
    "prediction_name = 'rf_graph_features_{date}.csv'.format(date=date)\n",
    "prediction_dir = '../submissions'\n",
    "y_pred = model.predict(x_test)\n",
    "y_pred = pd.Series(data=y_pred).rename('category').rename_axis('id', axis='index')\n",
    "y_pred.to_csv(os.path.join(prediction_dir, prediction_name), header=True)"
   ]
  },
  {
   "cell_type": "markdown",
   "metadata": {},
   "source": [
    "# 0.95532 on the leaderboard"
   ]
  },
  {
   "cell_type": "code",
   "execution_count": null,
   "metadata": {},
   "outputs": [],
   "source": []
  }
 ],
 "metadata": {
  "kernelspec": {
   "display_name": "supelec",
   "language": "python",
   "name": "supelec"
  },
  "language_info": {
   "codemirror_mode": {
    "name": "ipython",
    "version": 3
   },
   "file_extension": ".py",
   "mimetype": "text/x-python",
   "name": "python",
   "nbconvert_exporter": "python",
   "pygments_lexer": "ipython3",
   "version": "3.6.5"
  }
 },
 "nbformat": 4,
 "nbformat_minor": 2
}
