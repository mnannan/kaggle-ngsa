{
 "cells": [
  {
   "cell_type": "code",
   "execution_count": 211,
   "metadata": {},
   "outputs": [],
   "source": [
    "import os\n",
    "import pandas as pd\n",
    "import numpy as np\n",
    "import re \n",
    "import seaborn as sns\n",
    "import nltk\n",
    "from nltk.corpus import stopwords\n",
    "from nltk.stem import PorterStemmer\n",
    "\n",
    "sns.set()\n",
    "\n",
    "import matplotlib.pyplot as plt\n",
    "%matplotlib inline\n",
    "\n",
    "def load_data(dataset, DATA_DIR='./data/'):\n",
    "    read_args = {\n",
    "        'node_information':{\n",
    "            'names': ['id', 'publication_date', 'title', 'authors', 'journal', 'abstract'],\n",
    "            'index_col': 'id'\n",
    "        },\n",
    "        'train': {\n",
    "            'names': ['source_id', 'target_id','category'],\n",
    "            'sep': ' ',\n",
    "        },\n",
    "        'test':{\n",
    "            'names':['source_id', 'target_id'],\n",
    "            'sep': ' ',\n",
    "        }\n",
    "    }\n",
    "    filenames = {\n",
    "        'node_information': 'node_information.csv',\n",
    "        'train': 'training_set.txt',\n",
    "        'test': 'testing_set.txt'\n",
    "    }\n",
    "    if dataset in read_args:\n",
    "        file_path = os.path.join(DATA_DIR, filenames[dataset])\n",
    "        return pd.read_csv(file_path, header=None, **read_args[dataset])"
   ]
  },
  {
   "cell_type": "code",
   "execution_count": null,
   "metadata": {},
   "outputs": [],
   "source": [
    "def box_plot(dataset, feature):\n",
    "    feature = 'source_publication_date'\n",
    "    positive = dataset.category == 1\n",
    "    negative = dataset.category == 0\n",
    "    positive = dataset[positive][feature]\n",
    "    negative = dataset[negative][feature]\n",
    "\n",
    "\n",
    "    fig, axarr = plt.subplots(1,2, figsize=(10,5))\n",
    "    axarr[0].boxplot(positive)\n",
    "    axarr[1].boxplot(negative)\n",
    "    axarr[0].set_title(f'{feature} when connected')\n",
    "    axarr[1].set_title(f'{feature} when not connected')\n",
    "    "
   ]
  },
  {
   "cell_type": "code",
   "execution_count": null,
   "metadata": {},
   "outputs": [],
   "source": [
    "def merge_node_information(dataset, node_information):\n",
    "    for column in node_information.columns:\n",
    "        for origin in ['source', 'target']:\n",
    "            serie = node_information[column].rename(f'{origin}_{column}').to_frame()\n",
    "            dataset = dataset.merge(serie, left_on=f'{origin}_id', right_index=True)\n",
    "    return dataset"
   ]
  },
  {
   "cell_type": "code",
   "execution_count": 170,
   "metadata": {},
   "outputs": [],
   "source": [
    "def box_plot_feature(series, positive, negative, title=None):\n",
    "    positive = series[positive]\n",
    "    negative = series[negative]\n",
    "\n",
    "    fig, axarr = plt.subplots(1,2, figsize=(10,5))\n",
    "    axarr[0].boxplot(positive)\n",
    "    axarr[1].boxplot(negative)\n",
    "    if title:\n",
    "        axarr[0].set_title(f'{title} when connected')\n",
    "        axarr[1].set_title(f'{title} when not connected')\n",
    "    "
   ]
  },
  {
   "cell_type": "code",
   "execution_count": 2,
   "metadata": {},
   "outputs": [],
   "source": [
    "node_information = load_data('node_information', data_dir='../data')"
   ]
  },
  {
   "cell_type": "code",
   "execution_count": 4,
   "metadata": {},
   "outputs": [],
   "source": [
    "train = load_data('train', data_dir='../data')"
   ]
  },
  {
   "cell_type": "code",
   "execution_count": 91,
   "metadata": {},
   "outputs": [],
   "source": [
    "x = merge_node_information(train, node_information)"
   ]
  },
  {
   "cell_type": "markdown",
   "metadata": {},
   "source": [
    "## Publication date difference"
   ]
  },
  {
   "cell_type": "code",
   "execution_count": 171,
   "metadata": {},
   "outputs": [],
   "source": [
    "publication_date_diff = x.source_publication_date - x.target_publication_date"
   ]
  },
  {
   "cell_type": "code",
   "execution_count": 172,
   "metadata": {},
   "outputs": [
    {
     "data": {
      "image/png": "[encoded data removed]",
      "text/plain": [
       "<Figure size 720x360 with 2 Axes>"
      ]
     },
     "metadata": {
      "needs_background": "light"
     },
     "output_type": "display_data"
    }
   ],
   "source": [
    "box_plot_feature(publication_date_diff, positive, negative, 'publication date difference')"
   ]
  },
  {
   "cell_type": "code",
   "execution_count": 173,
   "metadata": {},
   "outputs": [
    {
     "data": {
      "text/plain": [
       "False    333006\n",
       "True       2124\n",
       "dtype: int64"
      ]
     },
     "execution_count": 173,
     "metadata": {},
     "output_type": "execute_result"
    }
   ],
   "source": [
    "(x[positive].source_publication_date < x[positive].target_publication_date).value_counts()"
   ]
  },
  {
   "cell_type": "code",
   "execution_count": 174,
   "metadata": {},
   "outputs": [
    {
     "data": {
      "text/plain": [
       "0.0063782634547125275"
      ]
     },
     "execution_count": 174,
     "metadata": {},
     "output_type": "execute_result"
    }
   ],
   "source": [
    "2124/333006"
   ]
  },
  {
   "cell_type": "markdown",
   "metadata": {},
   "source": [
    "We can notice that most of the articles quote articles that were written in the past, which is quite logical, the remaining is probably particular cases (only 0.006%), this features will help us a lot to splitt connected and non connected when the source publication date is older than the destination one"
   ]
  },
  {
   "cell_type": "markdown",
   "metadata": {},
   "source": [
    "## Title overlaping"
   ]
  },
  {
   "cell_type": "code",
   "execution_count": 188,
   "metadata": {},
   "outputs": [],
   "source": [
    "english_stopwords = set(stopwords.words('english'))\n",
    "stem = PorterStemmer()\n",
    "\n",
    "def tokenize(string):\n",
    "    words = []\n",
    "    for word in string.split():\n",
    "        if word not in english_stopwords:\n",
    "            words.append(stem.stem(word))\n",
    "    return words\n",
    "\n",
    "string = 'an infinite number of potentials surrounding 2d black hole'\n",
    "tokenize(string)\n",
    "\n",
    "def overlap(string1, string2):\n",
    "    return len(set(tokenize(string1)).intersection(set(tokenize(string2))))"
   ]
  },
  {
   "cell_type": "code",
   "execution_count": 189,
   "metadata": {},
   "outputs": [],
   "source": [
    "title_overlap = x.apply(lambda x: overlap(x.source_title, x.target_title), axis='columns')"
   ]
  },
  {
   "cell_type": "code",
   "execution_count": 190,
   "metadata": {},
   "outputs": [
    {
     "data": {
      "image/png": "[encoded data removed]",
      "text/plain": [
       "<Figure size 720x360 with 2 Axes>"
      ]
     },
     "metadata": {
      "needs_background": "light"
     },
     "output_type": "display_data"
    }
   ],
   "source": [
    "box_plot_feature(title_overlap, positive, negative, 'Title overlap')"
   ]
  },
  {
   "cell_type": "code",
   "execution_count": 191,
   "metadata": {},
   "outputs": [
    {
     "name": "stdout",
     "output_type": "stream",
     "text": [
      "193.36956787109375\n"
     ]
    }
   ],
   "source": [
    "import time\n",
    "st = time.time()\n",
    "x.apply(lambda x: overlap(x.source_title, x.target_title), axis='columns')\n",
    "print(time.time()-st)"
   ]
  },
  {
   "cell_type": "code",
   "execution_count": 178,
   "metadata": {},
   "outputs": [
    {
     "data": {
      "image/png": "[encoded data removed]",
      "text/plain": [
       "<Figure size 720x360 with 2 Axes>"
      ]
     },
     "metadata": {
      "needs_background": "light"
     },
     "output_type": "display_data"
    }
   ],
   "source": [
    "box_plot_feature(title_overlap, positive, negative, 'Title overlap')"
   ]
  },
  {
   "cell_type": "code",
   "execution_count": 161,
   "metadata": {},
   "outputs": [
    {
     "data": {
      "text/plain": [
       "False    255652\n",
       "True      24730\n",
       "dtype: int64"
      ]
     },
     "execution_count": 161,
     "metadata": {},
     "output_type": "execute_result"
    }
   ],
   "source": [
    "(title_overlap[negative] > 0).value_counts()"
   ]
  },
  {
   "cell_type": "code",
   "execution_count": 179,
   "metadata": {},
   "outputs": [
    {
     "data": {
      "text/plain": [
       "0.09673305900208096"
      ]
     },
     "execution_count": 179,
     "metadata": {},
     "output_type": "execute_result"
    }
   ],
   "source": [
    "24730/255652"
   ]
  },
  {
   "cell_type": "code",
   "execution_count": 180,
   "metadata": {},
   "outputs": [
    {
     "data": {
      "text/plain": [
       "False    194318\n",
       "True     140812\n",
       "dtype: int64"
      ]
     },
     "execution_count": 180,
     "metadata": {},
     "output_type": "execute_result"
    }
   ],
   "source": [
    "(title_overlap[positive] > 0).value_counts()"
   ]
  },
  {
   "cell_type": "code",
   "execution_count": 181,
   "metadata": {},
   "outputs": [
    {
     "data": {
      "text/plain": [
       "0.7246472277400962"
      ]
     },
     "execution_count": 181,
     "metadata": {},
     "output_type": "execute_result"
    }
   ],
   "source": [
    "140812/194318"
   ]
  },
  {
   "cell_type": "markdown",
   "metadata": {},
   "source": [
    "As we can see title overlapping can allow us to detect whether articles are connected, 72% of connected articles have an overlapping in the title agains 9.6% for not connected"
   ]
  },
  {
   "cell_type": "markdown",
   "metadata": {},
   "source": [
    "## Common authors"
   ]
  },
  {
   "cell_type": "code",
   "execution_count": 182,
   "metadata": {
    "scrolled": true
   },
   "outputs": [
    {
     "data": {
      "text/plain": [
       "0         Won T. Kim, Julian Lee, , Young Jai Park\n",
       "510736    Won T. Kim, Julian Lee, , Young Jai Park\n",
       "451434    Won T. Kim, Julian Lee, , Young Jai Park\n",
       "168455    Won T. Kim, Julian Lee, , Young Jai Park\n",
       "170930    Won T. Kim, Julian Lee, , Young Jai Park\n",
       "21430     Won T. Kim, Julian Lee, , Young Jai Park\n",
       "426916    Won T. Kim, Julian Lee, , Young Jai Park\n",
       "201084    Won T. Kim, Julian Lee, , Young Jai Park\n",
       "167792    Won T. Kim, Julian Lee, , Young Jai Park\n",
       "192101    Won T. Kim, Julian Lee, , Young Jai Park\n",
       "126225    Won T. Kim, Julian Lee, , Young Jai Park\n",
       "514327    Won T. Kim, Julian Lee, , Young Jai Park\n",
       "222625    Won T. Kim, Julian Lee, , Young Jai Park\n",
       "486060    Won T. Kim, Julian Lee, , Young Jai Park\n",
       "484078    Won T. Kim, Julian Lee, , Young Jai Park\n",
       "411789    Won T. Kim, Julian Lee, , Young Jai Park\n",
       "28303     Won T. Kim, Julian Lee, , Young Jai Park\n",
       "513109    Won T. Kim, Julian Lee, , Young Jai Park\n",
       "448365    Won T. Kim, Julian Lee, , Young Jai Park\n",
       "561330    Won T. Kim, Julian Lee, , Young Jai Park\n",
       "19890                                Kazuo Ghoroku\n",
       "97855                                Kazuo Ghoroku\n",
       "211853                               Kazuo Ghoroku\n",
       "474747                               Kazuo Ghoroku\n",
       "460802                               Kazuo Ghoroku\n",
       "431055                               Kazuo Ghoroku\n",
       "336699                               Kazuo Ghoroku\n",
       "481502                               Kazuo Ghoroku\n",
       "591074                               Kazuo Ghoroku\n",
       "133281                               Kazuo Ghoroku\n",
       "                            ...                   \n",
       "318843            Edwin Langmann, Jouko Mickelsson\n",
       "188012            Edwin Langmann, Jouko Mickelsson\n",
       "236757            Edwin Langmann, Jouko Mickelsson\n",
       "192667            Edwin Langmann, Jouko Mickelsson\n",
       "122965            Edwin Langmann, Jouko Mickelsson\n",
       "569380                G. von Gehlen, Shi-shyr Roan\n",
       "587943                G. von Gehlen, Shi-shyr Roan\n",
       "165076                G. von Gehlen, Shi-shyr Roan\n",
       "10823                 G. von Gehlen, Shi-shyr Roan\n",
       "584917                G. von Gehlen, Shi-shyr Roan\n",
       "261633                                         NaN\n",
       "226489                                         NaN\n",
       "84825                                          NaN\n",
       "182507                                         NaN\n",
       "555714                                         NaN\n",
       "337145                                         NaN\n",
       "410832                                         NaN\n",
       "368321                                         NaN\n",
       "104952                                         NaN\n",
       "318271                                         NaN\n",
       "598269                                         NaN\n",
       "22498             Bong H. Lian, Gregg J. Zuckerman\n",
       "506818            Bong H. Lian, Gregg J. Zuckerman\n",
       "297041            Bong H. Lian, Gregg J. Zuckerman\n",
       "6710              Bong H. Lian, Gregg J. Zuckerman\n",
       "125622    Elcio Abdalla, Cecilia B. M. H. Chirenti\n",
       "272080    Elcio Abdalla, Cecilia B. M. H. Chirenti\n",
       "141608    Elcio Abdalla, Cecilia B. M. H. Chirenti\n",
       "354181                                         NaN\n",
       "257443                                         NaN\n",
       "Name: target_authors, Length: 615512, dtype: object"
      ]
     },
     "execution_count": 182,
     "metadata": {},
     "output_type": "execute_result"
    }
   ],
   "source": [
    "x.target_authors"
   ]
  },
  {
   "cell_type": "code",
   "execution_count": 209,
   "metadata": {},
   "outputs": [],
   "source": [
    "def extract_authors(authors):\n",
    "    stopwords = ['alex', 't', 'latex', 'pages', 'jr', 's']\n",
    "    if isinstance(authors, str):\n",
    "        \n",
    "        # Remove string between parenthesis\n",
    "        string = re.sub(r'\\([^\\)]+[\\)$]','',authors)\n",
    "        # Remove bad parenthesis\n",
    "        string = re.sub(r'\\([^\\)]*$','', string)\n",
    "        # Remove multiple spaces\n",
    "        string = re.sub(r'\\s', '', string)\n",
    "        # Extract authors and sanityze strings\n",
    "        \n",
    "        authors = []\n",
    "        for author in string.split(','):\n",
    "            author = author.lower()\n",
    "            author = re.sub(r'[\\W\\d]','', author).lower()\n",
    "            if len(author) >= 2 and not author in stopwords:\n",
    "                authors.append(author)\n",
    "        return authors\n",
    "\n",
    "def common_authors(authors1, authors2):\n",
    "    if isinstance(authors1, str) and isinstance(authors2, str):\n",
    "        return len(set(extract_authors(authors1)).intersection(set(extract_authors(authors2))))\n",
    "    "
   ]
  },
  {
   "cell_type": "code",
   "execution_count": 212,
   "metadata": {
    "scrolled": true
   },
   "outputs": [],
   "source": [
    "common_authors = x.apply(lambda x: common_authors(x.source_authors, x.target_authors), axis='columns')"
   ]
  },
  {
   "cell_type": "code",
   "execution_count": 217,
   "metadata": {},
   "outputs": [
    {
     "data": {
      "image/png": "[encoded data removed]",
      "text/plain": [
       "<Figure size 720x360 with 2 Axes>"
      ]
     },
     "metadata": {
      "needs_background": "light"
     },
     "output_type": "display_data"
    }
   ],
   "source": [
    "box_plot_feature(common_authors.dropna(), positive, negative, 'Common authors')"
   ]
  },
  {
   "cell_type": "code",
   "execution_count": 223,
   "metadata": {},
   "outputs": [
    {
     "data": {
      "text/plain": [
       "<matplotlib.axes._subplots.AxesSubplot at 0x12e77e438>"
      ]
     },
     "execution_count": 223,
     "metadata": {},
     "output_type": "execute_result"
    },
    {
     "data": {
      "image/png": "[encoded data removed]",
      "text/plain": [
       "<Figure size 432x288 with 1 Axes>"
      ]
     },
     "metadata": {
      "needs_background": "light"
     },
     "output_type": "display_data"
    }
   ],
   "source": [
    "common_authors.hist()"
   ]
  },
  {
   "cell_type": "code",
   "execution_count": 225,
   "metadata": {},
   "outputs": [
    {
     "data": {
      "text/plain": [
       "False    299473\n",
       "True      35657\n",
       "dtype: int64"
      ]
     },
     "execution_count": 225,
     "metadata": {},
     "output_type": "execute_result"
    }
   ],
   "source": [
    "(common_authors[positive] > 0).value_counts()"
   ]
  },
  {
   "cell_type": "markdown",
   "metadata": {},
   "source": [
    "###### Paper with common authors"
   ]
  },
  {
   "cell_type": "code",
   "execution_count": 229,
   "metadata": {},
   "outputs": [
    {
     "data": {
      "text/plain": [
       "0.11906582563369653"
      ]
     },
     "execution_count": 229,
     "metadata": {},
     "output_type": "execute_result"
    }
   ],
   "source": [
    "35657/299473"
   ]
  },
  {
   "cell_type": "code",
   "execution_count": 226,
   "metadata": {},
   "outputs": [
    {
     "data": {
      "text/plain": [
       "False    280206\n",
       "True        176\n",
       "dtype: int64"
      ]
     },
     "execution_count": 226,
     "metadata": {},
     "output_type": "execute_result"
    }
   ],
   "source": [
    "(common_authors[negative] > 0).value_counts()"
   ]
  },
  {
   "cell_type": "code",
   "execution_count": 228,
   "metadata": {},
   "outputs": [
    {
     "data": {
      "text/plain": [
       "0.0006281093195720292"
      ]
     },
     "execution_count": 228,
     "metadata": {},
     "output_type": "execute_result"
    }
   ],
   "source": [
    "176/280206"
   ]
  },
  {
   "cell_type": "markdown",
   "metadata": {},
   "source": [
    "Common authors can be a good features for our problem as 12% of connected articles have more than 1 common authors against 0.06% for articles not connected "
   ]
  },
  {
   "cell_type": "code",
   "execution_count": null,
   "metadata": {},
   "outputs": [],
   "source": []
  }
 ],
 "metadata": {
  "kernelspec": {
   "display_name": "supelec",
   "language": "python",
   "name": "supelec"
  },
  "language_info": {
   "codemirror_mode": {
    "name": "ipython",
    "version": 3
   },
   "file_extension": ".py",
   "mimetype": "text/x-python",
   "name": "python",
   "nbconvert_exporter": "python",
   "pygments_lexer": "ipython3",
   "version": "3.6.5"
  }
 },
 "nbformat": 4,
 "nbformat_minor": 2
}
