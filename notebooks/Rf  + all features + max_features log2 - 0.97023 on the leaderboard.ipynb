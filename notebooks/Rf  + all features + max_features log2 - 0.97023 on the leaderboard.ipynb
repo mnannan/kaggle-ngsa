{
 "cells": [
  {
   "cell_type": "code",
   "execution_count": 1,
   "metadata": {},
   "outputs": [],
   "source": [
    "import os\n",
    "import sys\n",
    "sys.path.append('/Users/mnannan/dev/supelec/ngsa/assignments/Assignement 2 ')\n",
    "\n",
    "from main import pipeline\n",
    "from core.io.loader import *\n",
    "from features.features_extractor import FeaturesExtractor\n",
    "from features.processing import features_processing\n",
    "from models.cross_validation import *\n",
    "from plot.features_importances import plot_features_importance\n",
    "\n",
    "from datetime import datetime\n",
    "\n",
    "%matplotlib inline\n",
    "\n"
   ]
  },
  {
   "cell_type": "code",
   "execution_count": null,
   "metadata": {},
   "outputs": [],
   "source": [
    "train = get_data_with_node_information('train', data_dir='../data')\n",
    "test = get_data_with_node_information('test', data_dir='../data')\n",
    "features_extractor = FeaturesExtractor(pipeline)\n",
    "train = features_extractor.fit_transform(train)\n",
    "test = features_extractor.transform(test)"
   ]
  },
  {
   "cell_type": "code",
   "execution_count": 2,
   "metadata": {},
   "outputs": [],
   "source": [
    "train = pd.read_csv('../data/train_2019-01-12.csv')"
   ]
  },
  {
   "cell_type": "code",
   "execution_count": 3,
   "metadata": {},
   "outputs": [],
   "source": [
    "test = pd.read_csv('../data/test_2019-01-12.csv')"
   ]
  },
  {
   "cell_type": "code",
   "execution_count": 6,
   "metadata": {},
   "outputs": [],
   "source": [
    "selected_columns = [\n",
    "    'title_overlap',\n",
    "    'publication_date_diff',\n",
    "    'common_authors',\n",
    "    'same_journal',\n",
    "    'authors_collaboration',\n",
    "    'collaboration_min_distance',\n",
    "    'collaboration_mean_distance',\n",
    "    'writer_in_target_paper',\n",
    "    'writer_collaborators',\n",
    "    'writer_collaboration_min_distance',\n",
    "    'writer_collaboration_mean_distance',\n",
    "    'source_paper_citations',\n",
    "    'target_paper_citations',\n",
    "    'source_number_of_papers_cited',\n",
    "    'target_number_of_papers_cited',\n",
    "    'adamic_adar',\n",
    "    'common_neighbors',\n",
    "    'jaccard_coefficient',\n",
    "    'preferential_attachment',\n",
    "    'max_authors_adamic_adar',\n",
    "    'max_authors_common_neighbors',\n",
    "    'max_authors_jaccard_coefficient',\n",
    "    'max_authors_preferential_attachment',\n",
    "    'title_cosine_similarity',\n",
    "    'abstract_cosine_similarity',\n",
    "    'journal_cosine_similarity', \n",
    "    'source_title_target_abstract_cosimilarity',\n",
    "    'source_abstract_target_title_cosimilarity',\n",
    "    'pagerank_source',\n",
    "    'pagerank_target'\n",
    "]\n",
    "\n",
    "x_train = features_processing(train[selected_columns]).values\n",
    "x_test = features_processing(test[selected_columns]).values\n",
    "y_train = train.category.values"
   ]
  },
  {
   "cell_type": "code",
   "execution_count": null,
   "metadata": {},
   "outputs": [],
   "source": []
  },
  {
   "cell_type": "code",
   "execution_count": 7,
   "metadata": {},
   "outputs": [],
   "source": [
    "from sklearn.ensemble import RandomForestClassifier\n",
    "\n",
    "seed = 123\n",
    "\n",
    "model_args = {\n",
    "    'n_jobs': -1,\n",
    "    'n_estimators': 100,\n",
    "    'random_state': seed,\n",
    "    'criterion': 'entropy',\n",
    "    'max_features': 'log2'\n",
    "}"
   ]
  },
  {
   "cell_type": "code",
   "execution_count": 8,
   "metadata": {},
   "outputs": [
    {
     "name": "stdout",
     "output_type": "stream",
     "text": [
      "Epoch 1\n",
      "f1: 0.977228376715002\n",
      "Epoch 2\n",
      "f1: 0.9778209267496031\n",
      "Epoch 3\n",
      "f1: 0.9777338692173548\n",
      "Epoch 4\n",
      "f1: 0.9780736688658119\n",
      "Epoch 5\n",
      "f1: 0.9779920257698285\n"
     ]
    }
   ],
   "source": [
    "y_pred, f1_list = cross_validation(RandomForestClassifier, model_args, x_train, y_train)"
   ]
  },
  {
   "cell_type": "code",
   "execution_count": 9,
   "metadata": {},
   "outputs": [
    {
     "data": {
      "text/plain": [
       "0.97776977346352"
      ]
     },
     "execution_count": 9,
     "metadata": {},
     "output_type": "execute_result"
    }
   ],
   "source": [
    "np.mean(f1_list)"
   ]
  },
  {
   "cell_type": "code",
   "execution_count": 10,
   "metadata": {},
   "outputs": [
    {
     "name": "stdout",
     "output_type": "stream",
     "text": [
      "jaccard_coefficient                          0.208484\n",
      "adamic_adar                                  0.202816\n",
      "common_neighbors                             0.141235\n",
      "publication_date_diff                        0.083911\n",
      "abstract_cosine_similarity                   0.068965\n",
      "target_paper_citations                       0.045352\n",
      "preferential_attachment                      0.042101\n",
      "source_abstract_target_title_cosimilarity    0.035338\n",
      "pagerank_target                              0.025625\n",
      "source_title_target_abstract_cosimilarity    0.024032\n",
      "source_number_of_papers_cited                0.017605\n",
      "title_cosine_similarity                      0.014974\n",
      "target_number_of_papers_cited                0.012144\n",
      "collaboration_mean_distance                  0.010057\n",
      "pagerank_source                              0.009806\n",
      "source_paper_citations                       0.007822\n",
      "collaboration_min_distance                   0.007745\n",
      "writer_collaboration_mean_distance           0.007451\n",
      "journal_cosine_similarity                    0.006276\n",
      "writer_collaboration_min_distance            0.006111\n",
      "max_authors_preferential_attachment          0.006023\n",
      "title_overlap                                0.004684\n",
      "common_authors                               0.002181\n",
      "max_authors_jaccard_coefficient              0.002143\n",
      "max_authors_adamic_adar                      0.001913\n",
      "max_authors_common_neighbors                 0.001654\n",
      "writer_collaborators                         0.001182\n",
      "authors_collaboration                        0.001158\n",
      "same_journal                                 0.000685\n",
      "writer_in_target_paper                       0.000527\n",
      "dtype: float64\n"
     ]
    },
    {
     "data": {
      "image/png": "[encoded data removed]",
      "text/plain": [
       "<Figure size 432x288 with 1 Axes>"
      ]
     },
     "metadata": {
      "needs_background": "light"
     },
     "output_type": "display_data"
    }
   ],
   "source": [
    "model = RandomForestClassifier(**model_args)\n",
    "model.fit(x_train, y_train)\n",
    "plot_features_importance(model.feature_importances_, selected_columns)"
   ]
  },
  {
   "cell_type": "code",
   "execution_count": 11,
   "metadata": {},
   "outputs": [],
   "source": [
    "from datetime import datetime"
   ]
  },
  {
   "cell_type": "code",
   "execution_count": 12,
   "metadata": {},
   "outputs": [],
   "source": [
    "date = datetime.now().isoformat().split(\".\")[0]\n",
    "prediction_name = 'rf_graph_features_neighborhood_metrics_authors_neighborhood_metrics_nlp_log2_max_features{date}.csv'.format(date=date)\n",
    "prediction_dir = '../submissions'\n",
    "y_pred = model.predict(x_test)\n",
    "y_pred = pd.Series(data=y_pred).rename('category').rename_axis('id', axis='index')\n",
    "y_pred.to_csv(os.path.join(prediction_dir, prediction_name), header=True)"
   ]
  },
  {
   "cell_type": "code",
   "execution_count": 15,
   "metadata": {},
   "outputs": [
    {
     "data": {
      "text/plain": [
       "array([0, 1])"
      ]
     },
     "execution_count": 15,
     "metadata": {},
     "output_type": "execute_result"
    }
   ],
   "source": [
    "model."
   ]
  },
  {
   "cell_type": "markdown",
   "metadata": {},
   "source": [
    "## 0.97023 on the leaderboard"
   ]
  },
  {
   "cell_type": "code",
   "execution_count": null,
   "metadata": {},
   "outputs": [],
   "source": []
  }
 ],
 "metadata": {
  "kernelspec": {
   "display_name": "supelec",
   "language": "python",
   "name": "supelec"
  },
  "language_info": {
   "codemirror_mode": {
    "name": "ipython",
    "version": 3
   },
   "file_extension": ".py",
   "mimetype": "text/x-python",
   "name": "python",
   "nbconvert_exporter": "python",
   "pygments_lexer": "ipython3",
   "version": "3.6.5"
  }
 },
 "nbformat": 4,
 "nbformat_minor": 2
}
