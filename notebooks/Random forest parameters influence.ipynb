{
 "cells": [
  {
   "cell_type": "code",
   "execution_count": 1,
   "metadata": {},
   "outputs": [],
   "source": [
    "import os\n",
    "import sys\n",
    "sys.path.append('/Users/mnannan/dev/supelec/ngsa/assignments/Assignement 2 ')\n",
    "\n",
    "from main import pipeline\n",
    "from core.io.loader import *\n",
    "from features.features_extractor import FeaturesExtractor\n",
    "from features.processing import features_processing\n",
    "from models.cross_validation import *\n",
    "from plot.features_importances import plot_features_importances\n",
    "\n",
    "from datetime import datetime\n",
    "\n",
    "%matplotlib inline\n",
    "\n",
    "\n"
   ]
  },
  {
   "cell_type": "code",
   "execution_count": 2,
   "metadata": {},
   "outputs": [],
   "source": [
    "train = get_data_with_node_information('train', data_dir='../data')\n",
    "test = get_data_with_node_information('test', data_dir='../data')\n",
    "features_extractor = FeaturesExtractor(pipeline)\n",
    "train = features_extractor.fit_transform(train)\n",
    "test = features_extractor.transform(test)"
   ]
  },
  {
   "cell_type": "code",
   "execution_count": 3,
   "metadata": {},
   "outputs": [],
   "source": [
    "selected_columns = [\n",
    "    'title_overlap',\n",
    "    'publication_date_diff',\n",
    "    'common_authors',\n",
    "    'same_journal',\n",
    "    'authors_collaboration',\n",
    "    'collaboration_min_distance',\n",
    "    'collaboration_mean_distance',\n",
    "    'writer_in_target_paper',\n",
    "    'writer_collaborators',\n",
    "    'writer_collaboration_min_distance',\n",
    "    'writer_collaboration_mean_distance',\n",
    "    'source_target_common_neighbors',\n",
    "    'source_paper_citations',\n",
    "    'target_paper_citations',\n",
    "    'source_number_of_papers_cited',\n",
    "    'target_number_of_papers_cited',\n",
    "]\n",
    "\n",
    "x_train = features_processing(train[selected_columns]).values\n",
    "x_test = features_processing(test[selected_columns]).values\n",
    "y_train = train.category.values"
   ]
  },
  {
   "cell_type": "markdown",
   "metadata": {},
   "source": [
    "# gini versus entropy"
   ]
  },
  {
   "cell_type": "markdown",
   "metadata": {},
   "source": [
    "###### gini"
   ]
  },
  {
   "cell_type": "code",
   "execution_count": 5,
   "metadata": {},
   "outputs": [],
   "source": [
    "from sklearn.ensemble import RandomForestClassifier\n",
    "seed = 123\n",
    "model_args = {\n",
    "    'n_jobs': -1,\n",
    "    'n_estimators': 100,\n",
    "    'random_state': seed,\n",
    "    'criterion': 'gini'\n",
    "}"
   ]
  },
  {
   "cell_type": "code",
   "execution_count": 6,
   "metadata": {},
   "outputs": [
    {
     "name": "stdout",
     "output_type": "stream",
     "text": [
      "Epoch 1\n",
      "f1: 0.9703126526257261\n",
      "Epoch 2\n",
      "f1: 0.9704913584527372\n",
      "Epoch 3\n",
      "f1: 0.970053147230572\n",
      "Epoch 4\n",
      "f1: 0.9708496908984252\n",
      "Epoch 5\n",
      "f1: 0.9707941904281965\n"
     ]
    }
   ],
   "source": [
    "y_pred, f1_list = cross_validation(RandomForestClassifier, model_args, x_train, y_train)"
   ]
  },
  {
   "cell_type": "code",
   "execution_count": 7,
   "metadata": {},
   "outputs": [
    {
     "data": {
      "text/plain": [
       "0.9704998782105063"
      ]
     },
     "execution_count": 7,
     "metadata": {},
     "output_type": "execute_result"
    }
   ],
   "source": [
    "f1_score(y_train, y_pred)"
   ]
  },
  {
   "cell_type": "markdown",
   "metadata": {},
   "source": [
    "###### entropy"
   ]
  },
  {
   "cell_type": "code",
   "execution_count": 8,
   "metadata": {},
   "outputs": [],
   "source": [
    "from sklearn.ensemble import RandomForestClassifier\n",
    "seed = 123\n",
    "model_args = {\n",
    "    'n_jobs': -1,\n",
    "    'n_estimators': 100,\n",
    "    'random_state': seed,\n",
    "    'criterion': 'entropy'\n",
    "}"
   ]
  },
  {
   "cell_type": "code",
   "execution_count": 9,
   "metadata": {},
   "outputs": [
    {
     "name": "stdout",
     "output_type": "stream",
     "text": [
      "Epoch 1\n",
      "f1: 0.970051692011781\n",
      "Epoch 2\n",
      "f1: 0.9706839899918608\n",
      "Epoch 3\n",
      "f1: 0.9701309022206894\n",
      "Epoch 4\n",
      "f1: 0.9708781665200424\n",
      "Epoch 5\n",
      "f1: 0.9708822578097379\n"
     ]
    }
   ],
   "source": [
    "y_pred, f1_list = cross_validation(RandomForestClassifier, model_args, x_train, y_train)"
   ]
  },
  {
   "cell_type": "code",
   "execution_count": 10,
   "metadata": {},
   "outputs": [
    {
     "data": {
      "text/plain": [
       "0.9705249990227122"
      ]
     },
     "execution_count": 10,
     "metadata": {},
     "output_type": "execute_result"
    }
   ],
   "source": [
    "f1_score(y_train, y_pred)"
   ]
  },
  {
   "cell_type": "markdown",
   "metadata": {},
   "source": [
    "# TODO test when we will have more features"
   ]
  },
  {
   "cell_type": "code",
   "execution_count": null,
   "metadata": {},
   "outputs": [],
   "source": []
  }
 ],
 "metadata": {
  "kernelspec": {
   "display_name": "supelec",
   "language": "python",
   "name": "supelec"
  },
  "language_info": {
   "codemirror_mode": {
    "name": "ipython",
    "version": 3
   },
   "file_extension": ".py",
   "mimetype": "text/x-python",
   "name": "python",
   "nbconvert_exporter": "python",
   "pygments_lexer": "ipython3",
   "version": "3.6.5"
  }
 },
 "nbformat": 4,
 "nbformat_minor": 2
}
